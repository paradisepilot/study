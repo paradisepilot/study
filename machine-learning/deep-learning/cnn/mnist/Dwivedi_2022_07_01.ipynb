{
  "nbformat": 4,
  "nbformat_minor": 0,
  "metadata": {
    "colab": {
      "name": "Dwivedi-2022-07-01.ipynb",
      "provenance": [],
      "authorship_tag": "ABX9TyOezmYBYYrflQV0fTbcgM/L",
      "include_colab_link": true
    },
    "kernelspec": {
      "name": "python3",
      "display_name": "Python 3"
    },
    "language_info": {
      "name": "python"
    }
  },
  "cells": [
    {
      "cell_type": "markdown",
      "metadata": {
        "id": "view-in-github",
        "colab_type": "text"
      },
      "source": [
        "<a href=\"https://colab.research.google.com/github/paradisepilot/study/blob/master/machine-learning/deep-learning/cnn/mnist/Dwivedi_2022_07_01.ipynb\" target=\"_parent\"><img src=\"https://colab.research.google.com/assets/colab-badge.svg\" alt=\"Open In Colab\"/></a>"
      ]
    },
    {
      "cell_type": "markdown",
      "source": [
        "Source: https://neptune.ai/blog/how-to-use-google-colab-for-deep-learning-complete-tutorial"
      ],
      "metadata": {
        "id": "YQJqvN87cNrA"
      }
    },
    {
      "cell_type": "code",
      "execution_count": 1,
      "metadata": {
        "colab": {
          "base_uri": "https://localhost:8080/"
        },
        "id": "zTfNIKLCbeV9",
        "outputId": "6070bd47-34a6-49c7-b555-818251154413"
      },
      "outputs": [
        {
          "output_type": "stream",
          "name": "stdout",
          "text": [
            "Downloading data from https://storage.googleapis.com/tensorflow/tf-keras-datasets/mnist.npz\n",
            "11493376/11490434 [==============================] - 0s 0us/step\n",
            "11501568/11490434 [==============================] - 0s 0us/step\n"
          ]
        }
      ],
      "source": [
        "#import necessary libraries\n",
        "import tensorflow as tf\n",
        "\n",
        "#load training data and split into train and test sets\n",
        "mnist = tf.keras.datasets.mnist\n",
        " \n",
        "(x_train,y_train), (x_test,y_test) = mnist.load_data()\n",
        "x_train, x_test = x_train / 255.0, x_test / 255.0"
      ]
    },
    {
      "cell_type": "code",
      "source": [
        "# define model (this is NOT a convolution neural network)\n",
        "model = tf.keras.models.Sequential([\n",
        "    tf.keras.layers.Flatten(input_shape=(28,28)),\n",
        "    tf.keras.layers.Dense(128,activation='relu'),\n",
        "    tf.keras.layers.Dropout(0.2),\n",
        "    tf.keras.layers.Dense(10)\n",
        "])\n",
        "\n",
        "#define loss function variable\n",
        "loss_fn = tf.keras.losses.SparseCategoricalCrossentropy(from_logits=True)\n",
        "\n",
        "#define optimizer,loss function and evaluation metric\n",
        "model.compile(\n",
        "    optimizer='adam',\n",
        "    loss=loss_fn,\n",
        "    metrics=['accuracy']\n",
        ")\n"
      ],
      "metadata": {
        "id": "PRvVgzLvcjTP"
      },
      "execution_count": 2,
      "outputs": []
    },
    {
      "cell_type": "code",
      "source": [
        "#train the model\n",
        "model.fit(x_train,y_train,epochs=5)"
      ],
      "metadata": {
        "colab": {
          "base_uri": "https://localhost:8080/"
        },
        "id": "v-aam5Ekc70v",
        "outputId": "505acd00-433d-493a-fc5a-13360f853c65"
      },
      "execution_count": 3,
      "outputs": [
        {
          "output_type": "stream",
          "name": "stdout",
          "text": [
            "Epoch 1/5\n",
            "1875/1875 [==============================] - 6s 3ms/step - loss: 0.2986 - accuracy: 0.9128\n",
            "Epoch 2/5\n",
            "1875/1875 [==============================] - 5s 3ms/step - loss: 0.1429 - accuracy: 0.9584\n",
            "Epoch 3/5\n",
            "1875/1875 [==============================] - 5s 3ms/step - loss: 0.1104 - accuracy: 0.9669\n",
            "Epoch 4/5\n",
            "1875/1875 [==============================] - 5s 3ms/step - loss: 0.0884 - accuracy: 0.9734\n",
            "Epoch 5/5\n",
            "1875/1875 [==============================] - 5s 3ms/step - loss: 0.0759 - accuracy: 0.9762\n"
          ]
        },
        {
          "output_type": "execute_result",
          "data": {
            "text/plain": [
              "<keras.callbacks.History at 0x7fd32bb1f210>"
            ]
          },
          "metadata": {},
          "execution_count": 3
        }
      ]
    },
    {
      "cell_type": "code",
      "source": [
        "#test model accuracy on test set\n",
        "model.evaluate(x_test,y_test,verbose=2)"
      ],
      "metadata": {
        "colab": {
          "base_uri": "https://localhost:8080/"
        },
        "id": "KEuZTDyqduyQ",
        "outputId": "da7db4a9-15f3-4629-d47e-67500f2ee3d7"
      },
      "execution_count": 4,
      "outputs": [
        {
          "output_type": "stream",
          "name": "stdout",
          "text": [
            "313/313 - 1s - loss: 0.0747 - accuracy: 0.9774 - 545ms/epoch - 2ms/step\n"
          ]
        },
        {
          "output_type": "execute_result",
          "data": {
            "text/plain": [
              "[0.07467051595449448, 0.977400004863739]"
            ]
          },
          "metadata": {},
          "execution_count": 4
        }
      ]
    },
    {
      "cell_type": "code",
      "source": [
        "#extend the base model to predict softmax output\n",
        "probability_model = tf.keras.Sequential([\n",
        "    model,\n",
        "    tf.keras.layers.Softmax()\n",
        "])"
      ],
      "metadata": {
        "id": "Qau4_BlGd26o"
      },
      "execution_count": 5,
      "outputs": []
    },
    {
      "cell_type": "code",
      "source": [
        "print('type(x_test): ' + str(type(x_test)))\n",
        "print('x_test.shape: ' + str(x_test.shape))\n",
        "print('type(x_test[1,:,:]): ' + str(type(x_test[1,:,:])))\n",
        "print('x_test[[0,1],:,:].shape: ' + str(x_test[[0,1],:,:].shape))"
      ],
      "metadata": {
        "colab": {
          "base_uri": "https://localhost:8080/"
        },
        "id": "2_c7ECuYeiQk",
        "outputId": "2e52705c-4ce1-4c5b-ccb4-43534146f628"
      },
      "execution_count": 27,
      "outputs": [
        {
          "output_type": "stream",
          "name": "stdout",
          "text": [
            "type(x_test): <class 'numpy.ndarray'>\n",
            "x_test.shape: (10000, 28, 28)\n",
            "type(x_test[1,:,:]): <class 'numpy.ndarray'>\n",
            "x_test[[0,1],:,:].shape: (2, 28, 28)\n"
          ]
        }
      ]
    },
    {
      "cell_type": "code",
      "source": [
        "import matplotlib.pyplot as plt"
      ],
      "metadata": {
        "id": "oEiSI7tlmbe9"
      },
      "execution_count": 31,
      "outputs": []
    },
    {
      "cell_type": "code",
      "source": [
        "imageIndex = 20\n",
        "print( probability_model.predict(x_test[[imageIndex],:,:]) )\n",
        "plt.imshow(x_test[imageIndex,:,:], cmap=plt.get_cmap('gray'))"
      ],
      "metadata": {
        "colab": {
          "base_uri": "https://localhost:8080/",
          "height": 316
        },
        "id": "333X024Tff_X",
        "outputId": "b9f01260-1cfa-464a-f48b-958e59f63928"
      },
      "execution_count": 35,
      "outputs": [
        {
          "output_type": "stream",
          "name": "stdout",
          "text": [
            "[[5.5262790e-06 2.5791769e-07 2.2357673e-08 5.7998506e-05 2.5658493e-04\n",
            "  4.9472328e-06 1.8960004e-10 2.0118110e-02 1.5800066e-04 9.7939861e-01]]\n"
          ]
        },
        {
          "output_type": "execute_result",
          "data": {
            "text/plain": [
              "<matplotlib.image.AxesImage at 0x7fd32b0f3810>"
            ]
          },
          "metadata": {},
          "execution_count": 35
        },
        {
          "output_type": "display_data",
          "data": {
            "text/plain": [
              "<Figure size 432x288 with 1 Axes>"
            ],
            "image/png": "[encoded data removed]"
          },
          "metadata": {
            "needs_background": "light"
          }
        }
      ]
    },
    {
      "cell_type": "code",
      "source": [
        ""
      ],
      "metadata": {
        "id": "kJ33nJ5WhJF8"
      },
      "execution_count": 31,
      "outputs": []
    }
  ]
}