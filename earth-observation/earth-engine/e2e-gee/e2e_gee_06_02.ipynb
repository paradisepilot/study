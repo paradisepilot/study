{
  "cells": [
    {
      "cell_type": "markdown",
      "metadata": {
        "id": "WD-QeVYP2iMT"
      },
      "source": [
        "[geemap](https://github.com/giswqs/geemap) is an open-source Python package that comes with many helpful features that help you use Earth Engine effectively in Python. \n",
        "\n",
        "It comes with a function that can help you translate your javascript earth engine code to Python automatically.\n",
        "\n",
        "Google Colab doesn't come pre-installed with the package, so we install it via pip."
      ]
    },
    {
      "cell_type": "code",
      "source": [
        "import ee"
      ],
      "metadata": {
        "id": "N2hwXgwsyOa2"
      },
      "execution_count": 1,
      "outputs": []
    },
    {
      "cell_type": "code",
      "source": [
        "ee.Authenticate()"
      ],
      "metadata": {
        "colab": {
          "base_uri": "https://localhost:8080/"
        },
        "id": "-JBSG88oyO23",
        "outputId": "0f64f0ed-e908-4ff6-ac2a-c377d8477f77"
      },
      "execution_count": 2,
      "outputs": [
        {
          "output_type": "stream",
          "name": "stdout",
          "text": [
            "To authorize access needed by Earth Engine, open the following URL in a web browser and follow the instructions. If the web browser does not start automatically, please manually browse the URL below.\n",
            "\n",
            "    https://code.earthengine.google.com/client-auth?scopes=https%3A//www.googleapis.com/auth/earthengine%20https%3A//www.googleapis.com/auth/devstorage.full_control&request_id=sn5P-vM55tSdDpfgBDtbhQe-atY39iBPgP4ji-6tvBY&tc=zGq9D4kAfr_O9kdbNkmH7W1Xum_NiubH_8WCR6OoKrI&cc=MiCJGK0J8Po29wZQ2T_I5VVZ5k0hDpOZyv1OzL0xmy4\n",
            "\n",
            "The authorization workflow will generate a code, which you should paste in the box below.\n",
            "Enter verification code: 4/1AdQt8qgYTuiymF9R1Q49w9e6IapoHPICp5XOT8cBQZoe1MRs1p897-bbYtY\n",
            "\n",
            "Successfully saved authorization token.\n"
          ]
        }
      ]
    },
    {
      "cell_type": "code",
      "source": [
        "ee.Initialize()"
      ],
      "metadata": {
        "id": "KQbBQ1rCyPMN"
      },
      "execution_count": 3,
      "outputs": []
    },
    {
      "cell_type": "code",
      "execution_count": 4,
      "metadata": {
        "colab": {
          "base_uri": "https://localhost:8080/",
          "height": 598
        },
        "id": "nlQ8X57t2iMW",
        "outputId": "d70dfa29-cb9a-41cc-813b-770903688915"
      },
      "outputs": [
        {
          "output_type": "stream",
          "name": "stdout",
          "text": [
            "geemap not found, installing via pip in Google Colab...\n",
            "\u001b[K     |████████████████████████████████| 2.0 MB 5.2 MB/s \n",
            "\u001b[K     |████████████████████████████████| 1.2 MB 57.3 MB/s \n",
            "\u001b[K     |████████████████████████████████| 46 kB 4.0 MB/s \n",
            "\u001b[K     |████████████████████████████████| 95 kB 3.7 MB/s \n",
            "\u001b[K     |████████████████████████████████| 130 kB 54.2 MB/s \n",
            "\u001b[K     |████████████████████████████████| 3.0 MB 48.3 MB/s \n",
            "\u001b[K     |████████████████████████████████| 3.3 MB 48.1 MB/s \n",
            "\u001b[K     |████████████████████████████████| 1.3 MB 62.3 MB/s \n",
            "\u001b[K     |████████████████████████████████| 99 kB 9.4 MB/s \n",
            "\u001b[K     |████████████████████████████████| 98 kB 6.4 MB/s \n",
            "\u001b[K     |████████████████████████████████| 198 kB 71.4 MB/s \n",
            "\u001b[K     |████████████████████████████████| 8.8 MB 53.8 MB/s \n",
            "\u001b[K     |████████████████████████████████| 128 kB 47.7 MB/s \n",
            "\u001b[K     |████████████████████████████████| 9.7 MB 34.2 MB/s \n",
            "\u001b[K     |████████████████████████████████| 54 kB 1.9 MB/s \n",
            "\u001b[K     |████████████████████████████████| 423 kB 66.0 MB/s \n",
            "\u001b[K     |████████████████████████████████| 344 kB 70.3 MB/s \n",
            "\u001b[K     |████████████████████████████████| 132 kB 74.5 MB/s \n",
            "\u001b[K     |████████████████████████████████| 80 kB 8.6 MB/s \n",
            "\u001b[K     |████████████████████████████████| 54 kB 2.9 MB/s \n",
            "\u001b[K     |████████████████████████████████| 561 kB 60.9 MB/s \n",
            "\u001b[K     |████████████████████████████████| 133 kB 57.0 MB/s \n",
            "\u001b[K     |████████████████████████████████| 106 kB 24.7 MB/s \n",
            "\u001b[K     |████████████████████████████████| 75 kB 4.9 MB/s \n",
            "\u001b[?25h  Building wheel for ee-extra (setup.py) ... \u001b[?25l\u001b[?25hdone\n",
            "  Building wheel for sankee (setup.py) ... \u001b[?25l\u001b[?25hdone\n",
            "  Building wheel for json5 (setup.py) ... \u001b[?25l\u001b[?25hdone\n",
            "  Building wheel for pycrs (setup.py) ... \u001b[?25l\u001b[?25hdone\n",
            "\u001b[31mERROR: pip's dependency resolver does not currently take into account all the packages that are installed. This behaviour is the source of the following dependency conflicts.\n",
            "google-colab 1.0.0 requires tornado~=5.1.0, but you have tornado 6.2 which is incompatible.\n",
            "flask 1.1.4 requires Jinja2<3.0,>=2.10.1, but you have jinja2 3.1.2 which is incompatible.\n",
            "datascience 0.10.6 requires folium==0.2.1, but you have folium 0.12.1.post1 which is incompatible.\u001b[0m\n"
          ]
        }
      ],
      "source": [
        "try:\n",
        "    import geemap\n",
        "except ModuleNotFoundError:\n",
        "    if 'google.colab' in str(get_ipython()):\n",
        "        print('geemap not found, installing via pip in Google Colab...')\n",
        "        !pip install geemap --quiet\n",
        "        import geemap\n",
        "    else:\n",
        "        print('geemap not found, please install via conda in your environment')"
      ]
    },
    {
      "cell_type": "code",
      "source": [
        "import geemap"
      ],
      "metadata": {
        "id": "D5a_TAYVyrib"
      },
      "execution_count": 5,
      "outputs": []
    },
    {
      "cell_type": "markdown",
      "metadata": {
        "id": "m9tlLuD3xoaD"
      },
      "source": [
        "The automatic conversion of code is done by calling the `geemap.js_snippet_to_py()` function. We first create a string with the javascript code."
      ]
    },
    {
      "cell_type": "code",
      "execution_count": 6,
      "metadata": {
        "id": "nxPPLtLI2iMa"
      },
      "outputs": [],
      "source": [
        "javascript_code = \"\"\"\n",
        "var geometry = ee.Geometry.Point([107.61303468448624, 12.130969369851766]);\n",
        "Map.centerObject(geometry, 12)\n",
        "var s2 = ee.ImageCollection(\"COPERNICUS/S2\")\n",
        "var rgbVis = {\n",
        "  min: 0.0,\n",
        "  max: 3000,\n",
        "  bands: ['B4', 'B3', 'B2'],\n",
        "};\n",
        "\n",
        "// Write a function for Cloud masking\n",
        "function maskS2clouds(image) {\n",
        "  var qa = image.select('QA60')\n",
        "  var cloudBitMask = 1 << 10;\n",
        "  var cirrusBitMask = 1 << 11;\n",
        "  var mask = qa.bitwiseAnd(cloudBitMask).eq(0).and(\n",
        "             qa.bitwiseAnd(cirrusBitMask).eq(0))\n",
        "  return image.updateMask(mask)\n",
        "      .select(\"B.*\")\n",
        "      .copyProperties(image, [\"system:time_start\"])\n",
        "}\n",
        " \n",
        "var filtered = s2\n",
        "  .filter(ee.Filter.date('2019-01-01', '2019-12-31'))\n",
        "  .filter(ee.Filter.bounds(geometry))\n",
        "  .map(maskS2clouds)\n",
        "  \n",
        "\n",
        "// Write a function that computes NDVI for an image and adds it as a band\n",
        "function addNDVI(image) {\n",
        "  var ndvi = image.normalizedDifference(['B5', 'B4']).rename('ndvi');\n",
        "  return image.addBands(ndvi);\n",
        "}\n",
        "\n",
        "var withNdvi = filtered.map(addNDVI);\n",
        "\n",
        "var composite = withNdvi.median()\n",
        "palette = [\n",
        "  'FFFFFF', 'CE7E45', 'DF923D', 'F1B555', 'FCD163', '99B718',\n",
        "  '74A901', '66A000', '529400', '3E8601', '207401', '056201',\n",
        "  '004C00', '023B01', '012E01', '011D01', '011301'];\n",
        "\n",
        "ndviVis = {min:0, max:0.5, palette: palette }\n",
        "Map.addLayer(withNdvi.select('ndvi'), ndviVis, 'NDVI Composite')\n",
        "\n",
        "\"\"\""
      ]
    },
    {
      "cell_type": "code",
      "execution_count": 7,
      "metadata": {
        "colab": {
          "base_uri": "https://localhost:8080/"
        },
        "id": "zYsztHh42iMf",
        "outputId": "8f3b5683-040a-4106-cfb2-f96a9c05f0ae"
      },
      "outputs": [
        {
          "output_type": "stream",
          "name": "stdout",
          "text": [
            "import ee\n",
            "import geemap\n",
            "Map = geemap.Map()\n",
            "import geemap\n",
            "\n",
            "Map = geemap.Map()\n",
            "\n",
            "geometry = ee.Geometry.Point([107.61303468448624, 12.130969369851766])\n",
            "Map.centerObject(geometry, 12)\n",
            "s2 = ee.ImageCollection(\"COPERNICUS/S2\")\n",
            "rgbVis = {\n",
            "  'min': 0.0,\n",
            "  'max': 3000,\n",
            "  'bands': ['B4', 'B3', 'B2'],\n",
            "}\n",
            "\n",
            "# Write a function for Cloud masking\n",
            "def maskS2clouds(image):\n",
            "  qa = image.select('QA60')\n",
            "  cloudBitMask = 1 << 10\n",
            "  cirrusBitMask = 1 << 11\n",
            "  mask = qa.bitwiseAnd(cloudBitMask).eq(0).And(\n",
            "             qa.bitwiseAnd(cirrusBitMask).eq(0))\n",
            "  return image.updateMask(mask) \\\n",
            "      .select(\"B.*\") \\\n",
            "      .copyProperties(image, [\"system:time_start\"])\n",
            "\n",
            "filtered = s2 \\\n",
            "  .filter(ee.Filter.date('2019-01-01', '2019-12-31')) \\\n",
            "  .filter(ee.Filter.bounds(geometry)) \\\n",
            "  .map(maskS2clouds)\n",
            "\n",
            "# Write a function that computes NDVI for an image and adds it as a band\n",
            "def addNDVI(image):\n",
            "  ndvi = image.normalizedDifference(['B5', 'B4']).rename('ndvi')\n",
            "  return image.addBands(ndvi)\n",
            "\n",
            "withNdvi = filtered.map(addNDVI)\n",
            "\n",
            "composite = withNdvi.median()\n",
            "palette = [\n",
            "  'FFFFFF', 'CE7E45', 'DF923D', 'F1B555', 'FCD163', '99B718',\n",
            "  '74A901', '66A000', '529400', '3E8601', '207401', '056201',\n",
            "  '004C00', '023B01', '012E01', '011D01', '011301']\n",
            "\n",
            "ndviVis = {'min':0, 'max':0.5, 'palette': palette }\n",
            "Map.addLayer(withNdvi.select('ndvi'), ndviVis, 'NDVI Composite')\n",
            "\n",
            "Map\n",
            "Map\n"
          ]
        }
      ],
      "source": [
        "lines = geemap.js_snippet_to_py(\n",
        "    javascript_code,\n",
        "    add_new_cell=False,\n",
        "    import_ee=True,\n",
        "    import_geemap=True,\n",
        "    show_map=True\n",
        "    )\n",
        "for line in lines:\n",
        "    print(line.rstrip())"
      ]
    },
    {
      "cell_type": "markdown",
      "metadata": {
        "id": "xYf3qBFNxoaF"
      },
      "source": [
        "The automatic conversion works great. Review it and paste it to the cell below."
      ]
    },
    {
      "cell_type": "code",
      "execution_count": 8,
      "metadata": {
        "colab": {
          "base_uri": "https://localhost:8080/",
          "height": 621,
          "referenced_widgets": [
            "2fc454d3b0114b268a61da15466566ef",
            "8b6d2035d8834dbe86b8735be210de6c",
            "a9404a64d6b445329207ef0fc2d3f1e1",
            "ae9ebca942874878a7401647150765e6",
            "d5c3e49554a84fb2b1ee56c7beaae1ec",
            "8514dac227f54f309d7e7941434cd225",
            "b1889753a78d4985b039ae944713e9e0",
            "93f72cb694f24d85a9409da3206267e0",
            "72008962c9c9486a871956aa5f3088dc",
            "c32fe344c32d4ce89fb3e714b39ab54f",
            "25aebf5a473f4bb19dd15364fad70bb2",
            "95a4b035e62448909970b106907289ed",
            "8b88cb7d2a3b45ef80dda9290eda4c0c",
            "904e4a8034e24d218be293e1d2f82650",
            "91249b483b714ae1bb2f26096b75aba5",
            "d59a6a4837e24ab399eb4d8301df1b10",
            "9a6e78026c4e4633a7b814739c3a5b64",
            "a9985b2f89c0494aac4d660139f114bb",
            "adae9a839be7436486f4657b088b5981",
            "d93309aaebb64ebc9286e0ddd4d395fb",
            "9e82755446b94af484ae2c0fbe188691",
            "e893cd39362b423fbc879b4efbf80a08",
            "748bf895af6649b5b9f2cc208df1d134",
            "cea4a50cf145491eb2205fdb945208aa",
            "a9f9a9b8155b461d8cef4b7114e655fd",
            "55e646a996574dd7add9f527f4c7d71a"
          ]
        },
        "id": "9cmh1exIxoaG",
        "outputId": "6701655d-5851-4947-b8e9-c3effc644a81"
      },
      "outputs": [
        {
          "output_type": "display_data",
          "data": {
            "text/plain": [
              "Map(center=[12.130969369851766, 107.61303468448625], controls=(WidgetControl(options=['position', 'transparent…"
            ],
            "application/vnd.jupyter.widget-view+json": {
              "version_major": 2,
              "version_minor": 0,
              "model_id": "2fc454d3b0114b268a61da15466566ef"
            }
          },
          "metadata": {
            "application/vnd.jupyter.widget-view+json": {
              "colab": {
                "custom_widget_manager": {
                  "url": "https://ssl.gstatic.com/colaboratory-static/widgets/colab-cdn-widget-manager/d2e234f7cc04bf79/manager.min.js"
                }
              }
            }
          }
        }
      ],
      "source": [
        "import ee\n",
        "import geemap\n",
        "Map = geemap.Map()\n",
        "\n",
        "geometry = ee.Geometry.Point([107.61303468448624, 12.130969369851766])\n",
        "Map.centerObject(geometry, 12)\n",
        "s2 = ee.ImageCollection(\"COPERNICUS/S2\")\n",
        "rgbVis = {\n",
        "  'min': 0.0,\n",
        "  'max': 3000,\n",
        "  'bands': ['B4', 'B3', 'B2'],\n",
        "}\n",
        "\n",
        "# Write a function for Cloud masking\n",
        "def maskS2clouds(image):\n",
        "  qa = image.select('QA60')\n",
        "  cloudBitMask = 1 << 10\n",
        "  cirrusBitMask = 1 << 11\n",
        "  mask = qa.bitwiseAnd(cloudBitMask).eq(0).And(\n",
        "             qa.bitwiseAnd(cirrusBitMask).eq(0))\n",
        "  return image.updateMask(mask) \\\n",
        "      .select(\"B.*\") \\\n",
        "      .copyProperties(image, [\"system:time_start\"])\n",
        "\n",
        "filtered = s2 \\\n",
        "  .filter(ee.Filter.date('2019-01-01', '2019-12-31')) \\\n",
        "  .filter(ee.Filter.bounds(geometry)) \\\n",
        "  .map(maskS2clouds)\n",
        "\n",
        "# Write a function that computes NDVI for an image and adds it as a band\n",
        "def addNDVI(image):\n",
        "  ndvi = image.normalizedDifference(['B5', 'B4']).rename('ndvi')\n",
        "  return image.addBands(ndvi)\n",
        "\n",
        "withNdvi = filtered.map(addNDVI)\n",
        "\n",
        "composite = withNdvi.median()\n",
        "palette = [\n",
        "  'FFFFFF', 'CE7E45', 'DF923D', 'F1B555', 'FCD163', '99B718',\n",
        "  '74A901', '66A000', '529400', '3E8601', '207401', '056201',\n",
        "  '004C00', '023B01', '012E01', '011D01', '011301']\n",
        "\n",
        "ndviVis = {'min':0, 'max':0.5, 'palette': palette }\n",
        "Map.addLayer(withNdvi.select('ndvi'), ndviVis, 'NDVI Composite')\n",
        "Map"
      ]
    },
    {
      "cell_type": "markdown",
      "metadata": {
        "id": "6honJg1exoaG"
      },
      "source": [
        "### Exercise\n",
        "\n",
        "Take the Javascript code snippet below and use `geemap` to automatically convert it to Python.\n",
        "\n",
        "---\n",
        "\n",
        "```\n",
        "var admin2 = ee.FeatureCollection(\"FAO/GAUL_SIMPLIFIED_500m/2015/level2\");\n",
        "\n",
        "var karnataka = admin2.filter(ee.Filter.eq('ADM1_NAME', 'Karnataka'))\n",
        "\n",
        "var visParams = {color: 'red'}\n",
        "Map.centerObject(karnataka)\n",
        "Map.addLayer(karnataka, visParams, 'Karnataka Districts')\n",
        "```\n",
        "---"
      ]
    },
    {
      "cell_type": "code",
      "source": [
        "javascript_code = \"\"\"\n",
        "var admin2 = ee.FeatureCollection(\"FAO/GAUL_SIMPLIFIED_500m/2015/level2\");\n",
        "\n",
        "var karnataka = admin2.filter(ee.Filter.eq('ADM1_NAME', 'Karnataka'))\n",
        "\n",
        "var visParams = {color: 'red'}\n",
        "Map.centerObject(karnataka)\n",
        "Map.addLayer(karnataka, visParams, 'Karnataka Districts')\n",
        "\"\"\""
      ],
      "metadata": {
        "id": "7uSH0iLL0pI2"
      },
      "execution_count": 9,
      "outputs": []
    },
    {
      "cell_type": "code",
      "source": [
        "lines = geemap.js_snippet_to_py(\n",
        "    javascript_code,\n",
        "    add_new_cell=False,\n",
        "    import_ee=True,\n",
        "    import_geemap=True,\n",
        "    show_map=True\n",
        "    )\n",
        "for line in lines:\n",
        "    print(line.rstrip())"
      ],
      "metadata": {
        "colab": {
          "base_uri": "https://localhost:8080/"
        },
        "id": "yL18Mt8t0pjT",
        "outputId": "0e0a5254-87c7-4975-c9de-b2937ecbd7c2"
      },
      "execution_count": 10,
      "outputs": [
        {
          "output_type": "stream",
          "name": "stdout",
          "text": [
            "import ee\n",
            "import geemap\n",
            "Map = geemap.Map()\n",
            "import geemap\n",
            "\n",
            "Map = geemap.Map()\n",
            "\n",
            "admin2 = ee.FeatureCollection(\"FAO/GAUL_SIMPLIFIED_500m/2015/level2\")\n",
            "\n",
            "karnataka = admin2.filter(ee.Filter.eq('ADM1_NAME', 'Karnataka'))\n",
            "\n",
            "visParams = {'color': 'red'}\n",
            "Map.centerObject(karnataka)\n",
            "Map.addLayer(karnataka, visParams, 'Karnataka Districts')\n",
            "Map\n",
            "Map\n"
          ]
        }
      ]
    },
    {
      "cell_type": "code",
      "source": [
        "import ee\n",
        "import geemap\n",
        "Map = geemap.Map()\n",
        "import geemap\n",
        "\n",
        "Map = geemap.Map()\n",
        "\n",
        "admin2 = ee.FeatureCollection(\"FAO/GAUL_SIMPLIFIED_500m/2015/level2\")\n",
        "\n",
        "karnataka = admin2.filter(ee.Filter.eq('ADM1_NAME', 'Karnataka'))\n",
        "\n",
        "visParams = {'color': 'red'}\n",
        "Map.centerObject(karnataka)\n",
        "Map.addLayer(karnataka, visParams, 'Karnataka Districts')\n",
        "Map"
      ],
      "metadata": {
        "colab": {
          "base_uri": "https://localhost:8080/",
          "height": 621,
          "referenced_widgets": [
            "f08a4d6f99df439aa3dd5ee671f0163d",
            "2882330062334ffda2e9695f60cd73a2",
            "db1de7d86b8e4706a756cf7435007df6",
            "4431c43875b94b40aa69ea975492c1b8",
            "3cbf9656496e49aaa3b6db41948a4feb",
            "6b7c1a5e83f6402da3293eec6fa4e068",
            "f1a93b6bf57d411fae3851f08003e0a6",
            "20de1a7965ef46b4b74f2b5db927abde",
            "cbab6b31635e452699c4a952e588271e",
            "67f1a417d5724371963c76c0b8d24847",
            "f6471af748ed43dea0fcf815a19f950a",
            "f015926bf5cd40f690c3bca1e114f896",
            "8b88cb7d2a3b45ef80dda9290eda4c0c",
            "e90fb2a3b3434ea5a1f59a4c5a0d5ce7",
            "255dfb8fbc1d42198da71323a5cdb540",
            "ce0bc17aae874b9fb459de0ea68c34ef",
            "332c49c7f0dc43dd89a2e782f2213c40",
            "5655dd28728d40c78ada3c2eb499a734",
            "96585020b9644ebc971499034a87d189",
            "1ca0402ebcca4e799ca33f7f61389cb1",
            "79869621222d480ab3a4650eb1cb975b",
            "90307477471d43d784234acc8edb0d0e",
            "7e4e50ca58d147edba8530995e875017",
            "ee27f64d34164c54a0542e73370d116b",
            "62e9e25cb979431c93dd56a01f7fb4c5",
            "e8663d8d2005456880d9238781fe4805"
          ]
        },
        "id": "chd691Fp1MmT",
        "outputId": "3ba01b7f-39f9-4012-e44d-b57600569e31"
      },
      "execution_count": 11,
      "outputs": [
        {
          "output_type": "display_data",
          "data": {
            "text/plain": [
              "Map(center=[20, 0], controls=(WidgetControl(options=['position', 'transparent_bg'], widget=HBox(children=(Togg…"
            ],
            "application/vnd.jupyter.widget-view+json": {
              "version_major": 2,
              "version_minor": 0,
              "model_id": "f08a4d6f99df439aa3dd5ee671f0163d"
            }
          },
          "metadata": {
            "application/vnd.jupyter.widget-view+json": {
              "colab": {
                "custom_widget_manager": {
                  "url": "https://ssl.gstatic.com/colaboratory-static/widgets/colab-cdn-widget-manager/d2e234f7cc04bf79/manager.min.js"
                }
              }
            }
          }
        }
      ]
    }
  ],
  "metadata": {
    "colab": {
      "name": "01_syntax.ipynb",
      "provenance": []
    },
    "kernelspec": {
      "display_name": "Python 3 (ipykernel)",
      "language": "python",
      "name": "python3"
    },
    "language_info": {
      "codemirror_mode": {
        "name": "ipython",
        "version": 3
      },
      "file_extension": ".py",
      "mimetype": "text/x-python",
      "name": "python",
      "nbconvert_exporter": "python",
      "pygments_lexer": "ipython3",
      "version": "3.8.13"
    },
    "widgets": {
      "application/vnd.jupyter.widget-state+json": {
        "2fc454d3b0114b268a61da15466566ef": {
          "model_module": "jupyter-leaflet",
          "model_name": "LeafletMapModel",
          "model_module_version": "^0.17.0",
          "state": {
            "_dom_classes": [],
            "_model_module": "jupyter-leaflet",
            "_model_module_version": "^0.17.0",
            "_model_name": "LeafletMapModel",
            "_view_count": null,
            "_view_module": "jupyter-leaflet",
            "_view_module_version": "^0.17.0",
            "_view_name": "LeafletMapView",
            "bottom": 61412,
            "bounce_at_zoom_limits": true,
            "box_zoom": true,
            "center": [
              12.060809058367306,
              107.2650146484375
            ],
            "close_popup_on_click": true,
            "controls": [
              "IPY_MODEL_8b6d2035d8834dbe86b8735be210de6c",
              "IPY_MODEL_a9404a64d6b445329207ef0fc2d3f1e1",
              "IPY_MODEL_ae9ebca942874878a7401647150765e6",
              "IPY_MODEL_d5c3e49554a84fb2b1ee56c7beaae1ec",
              "IPY_MODEL_8514dac227f54f309d7e7941434cd225",
              "IPY_MODEL_b1889753a78d4985b039ae944713e9e0",
              "IPY_MODEL_93f72cb694f24d85a9409da3206267e0",
              "IPY_MODEL_72008962c9c9486a871956aa5f3088dc"
            ],
            "crs": {
              "name": "EPSG3857",
              "custom": false
            },
            "default_style": "IPY_MODEL_c32fe344c32d4ce89fb3e714b39ab54f",
            "double_click_zoom": true,
            "dragging": true,
            "dragging_style": "IPY_MODEL_25aebf5a473f4bb19dd15364fad70bb2",
            "east": 109.02557373046875,
            "fullscreen": false,
            "inertia": true,
            "inertia_deceleration": 3000,
            "inertia_max_speed": 1500,
            "interpolation": "bilinear",
            "keyboard": true,
            "keyboard_pan_offset": 80,
            "keyboard_zoom_offset": 1,
            "layers": [
              "IPY_MODEL_95a4b035e62448909970b106907289ed",
              "IPY_MODEL_8b88cb7d2a3b45ef80dda9290eda4c0c",
              "IPY_MODEL_904e4a8034e24d218be293e1d2f82650"
            ],
            "layout": "IPY_MODEL_91249b483b714ae1bb2f26096b75aba5",
            "left": 103949,
            "max_zoom": 24,
            "min_zoom": null,
            "modisdate": "2022-07-29",
            "north": 12.865359661408911,
            "options": [
              "bounce_at_zoom_limits",
              "box_zoom",
              "center",
              "close_popup_on_click",
              "double_click_zoom",
              "dragging",
              "fullscreen",
              "inertia",
              "inertia_deceleration",
              "inertia_max_speed",
              "interpolation",
              "keyboard",
              "keyboard_pan_offset",
              "keyboard_zoom_offset",
              "max_zoom",
              "min_zoom",
              "prefer_canvas",
              "scroll_wheel_zoom",
              "tap",
              "tap_tolerance",
              "touch_zoom",
              "world_copy_jump",
              "zoom",
              "zoom_animation_threshold",
              "zoom_delta",
              "zoom_snap"
            ],
            "panes": {},
            "prefer_canvas": false,
            "right": 105231,
            "scroll_wheel_zoom": true,
            "south": 11.253837328831702,
            "style": "IPY_MODEL_c32fe344c32d4ce89fb3e714b39ab54f",
            "tap": true,
            "tap_tolerance": 15,
            "top": 60812,
            "touch_zoom": true,
            "west": 105.50445556640625,
            "window_url": "https://u4t1hi0dlr-496ff2e9c6d22116-0-colab.googleusercontent.com/outputframe.html?vrz=colab-20220728-060048-RC00_463807217",
            "world_copy_jump": false,
            "zoom": 9,
            "zoom_animation_threshold": 4,
            "zoom_delta": 1,
            "zoom_snap": 1
          }
        },
        "8b6d2035d8834dbe86b8735be210de6c": {
          "model_module": "jupyter-leaflet",
          "model_name": "LeafletWidgetControlModel",
          "model_module_version": "^0.17.0",
          "state": {
            "_model_module": "jupyter-leaflet",
            "_model_module_version": "^0.17.0",
            "_model_name": "LeafletWidgetControlModel",
            "_view_count": null,
            "_view_module": "jupyter-leaflet",
            "_view_module_version": "^0.17.0",
            "_view_name": "LeafletWidgetControlView",
            "max_height": null,
            "max_width": null,
            "min_height": null,
            "min_width": null,
            "options": [
              "position",
              "transparent_bg"
            ],
            "position": "topleft",
            "transparent_bg": false,
            "widget": "IPY_MODEL_9a6e78026c4e4633a7b814739c3a5b64"
          }
        },
        "a9404a64d6b445329207ef0fc2d3f1e1": {
          "model_module": "jupyter-leaflet",
          "model_name": "LeafletZoomControlModel",
          "model_module_version": "^0.17.0",
          "state": {
            "_model_module": "jupyter-leaflet",
            "_model_module_version": "^0.17.0",
            "_model_name": "LeafletZoomControlModel",
            "_view_count": null,
            "_view_module": "jupyter-leaflet",
            "_view_module_version": "^0.17.0",
            "_view_name": "LeafletZoomControlView",
            "options": [
              "position",
              "zoom_in_text",
              "zoom_in_title",
              "zoom_out_text",
              "zoom_out_title"
            ],
            "position": "topleft",
            "zoom_in_text": "+",
            "zoom_in_title": "Zoom in",
            "zoom_out_text": "-",
            "zoom_out_title": "Zoom out"
          }
        },
        "ae9ebca942874878a7401647150765e6": {
          "model_module": "jupyter-leaflet",
          "model_name": "LeafletScaleControlModel",
          "model_module_version": "^0.17.0",
          "state": {
            "_model_module": "jupyter-leaflet",
            "_model_module_version": "^0.17.0",
            "_model_name": "LeafletScaleControlModel",
            "_view_count": null,
            "_view_module": "jupyter-leaflet",
            "_view_module_version": "^0.17.0",
            "_view_name": "LeafletScaleControlView",
            "imperial": true,
            "max_width": 100,
            "metric": true,
            "options": [
              "imperial",
              "max_width",
              "metric",
              "position",
              "update_when_idle"
            ],
            "position": "bottomleft",
            "update_when_idle": false
          }
        },
        "d5c3e49554a84fb2b1ee56c7beaae1ec": {
          "model_module": "jupyter-leaflet",
          "model_name": "LeafletFullScreenControlModel",
          "model_module_version": "^0.17.0",
          "state": {
            "_model_module": "jupyter-leaflet",
            "_model_module_version": "^0.17.0",
            "_model_name": "LeafletFullScreenControlModel",
            "_view_count": null,
            "_view_module": "jupyter-leaflet",
            "_view_module_version": "^0.17.0",
            "_view_name": "LeafletFullScreenControlView",
            "options": [
              "position"
            ],
            "position": "topleft"
          }
        },
        "8514dac227f54f309d7e7941434cd225": {
          "model_module": "jupyter-leaflet",
          "model_name": "LeafletMeasureControlModel",
          "model_module_version": "^0.17.0",
          "state": {
            "_custom_units": {},
            "_model_module": "jupyter-leaflet",
            "_model_module_version": "^0.17.0",
            "_model_name": "LeafletMeasureControlModel",
            "_view_count": null,
            "_view_module": "jupyter-leaflet",
            "_view_module_version": "^0.17.0",
            "_view_name": "LeafletMeasureControlView",
            "active_color": "orange",
            "capture_z_index": 10000,
            "completed_color": "#C8F2BE",
            "options": [
              "active_color",
              "capture_z_index",
              "completed_color",
              "popup_options",
              "position",
              "primary_area_unit",
              "primary_length_unit",
              "secondary_area_unit",
              "secondary_length_unit"
            ],
            "popup_options": {
              "className": "leaflet-measure-resultpopup",
              "autoPanPadding": [
                10,
                10
              ]
            },
            "position": "bottomleft",
            "primary_area_unit": "acres",
            "primary_length_unit": "kilometers",
            "secondary_area_unit": null,
            "secondary_length_unit": null
          }
        },
        "b1889753a78d4985b039ae944713e9e0": {
          "model_module": "jupyter-leaflet",
          "model_name": "LeafletAttributionControlModel",
          "model_module_version": "^0.17.0",
          "state": {
            "_model_module": "jupyter-leaflet",
            "_model_module_version": "^0.17.0",
            "_model_name": "LeafletAttributionControlModel",
            "_view_count": null,
            "_view_module": "jupyter-leaflet",
            "_view_module_version": "^0.17.0",
            "_view_name": "LeafletAttributionControlView",
            "options": [
              "position",
              "prefix"
            ],
            "position": "bottomright",
            "prefix": "ipyleaflet"
          }
        },
        "93f72cb694f24d85a9409da3206267e0": {
          "model_module": "jupyter-leaflet",
          "model_name": "LeafletDrawControlModel",
          "model_module_version": "^0.17.0",
          "state": {
            "_model_module": "jupyter-leaflet",
            "_model_module_version": "^0.17.0",
            "_model_name": "LeafletDrawControlModel",
            "_view_count": null,
            "_view_module": "jupyter-leaflet",
            "_view_module_version": "^0.17.0",
            "_view_name": "LeafletDrawControlView",
            "circle": {
              "shapeOptions": {
                "color": "#3388ff"
              }
            },
            "circlemarker": {},
            "data": [],
            "edit": true,
            "marker": {
              "shapeOptions": {
                "color": "#3388ff"
              }
            },
            "options": [
              "position"
            ],
            "polygon": {
              "shapeOptions": {}
            },
            "polyline": {
              "shapeOptions": {}
            },
            "position": "topleft",
            "rectangle": {
              "shapeOptions": {
                "color": "#3388ff"
              }
            },
            "remove": true
          }
        },
        "72008962c9c9486a871956aa5f3088dc": {
          "model_module": "jupyter-leaflet",
          "model_name": "LeafletWidgetControlModel",
          "model_module_version": "^0.17.0",
          "state": {
            "_model_module": "jupyter-leaflet",
            "_model_module_version": "^0.17.0",
            "_model_name": "LeafletWidgetControlModel",
            "_view_count": null,
            "_view_module": "jupyter-leaflet",
            "_view_module_version": "^0.17.0",
            "_view_name": "LeafletWidgetControlView",
            "max_height": null,
            "max_width": null,
            "min_height": null,
            "min_width": null,
            "options": [
              "position",
              "transparent_bg"
            ],
            "position": "topright",
            "transparent_bg": false,
            "widget": "IPY_MODEL_a9985b2f89c0494aac4d660139f114bb"
          }
        },
        "c32fe344c32d4ce89fb3e714b39ab54f": {
          "model_module": "jupyter-leaflet",
          "model_name": "LeafletMapStyleModel",
          "model_module_version": "^0.17.0",
          "state": {
            "_model_module": "jupyter-leaflet",
            "_model_module_version": "^0.17.0",
            "_model_name": "LeafletMapStyleModel",
            "_view_count": null,
            "_view_module": "@jupyter-widgets/base",
            "_view_module_version": "1.2.0",
            "_view_name": "StyleView",
            "cursor": "grab"
          }
        },
        "25aebf5a473f4bb19dd15364fad70bb2": {
          "model_module": "jupyter-leaflet",
          "model_name": "LeafletMapStyleModel",
          "model_module_version": "^0.17.0",
          "state": {
            "_model_module": "jupyter-leaflet",
            "_model_module_version": "^0.17.0",
            "_model_name": "LeafletMapStyleModel",
            "_view_count": null,
            "_view_module": "@jupyter-widgets/base",
            "_view_module_version": "1.2.0",
            "_view_name": "StyleView",
            "cursor": "move"
          }
        },
        "95a4b035e62448909970b106907289ed": {
          "model_module": "jupyter-leaflet",
          "model_name": "LeafletTileLayerModel",
          "model_module_version": "^0.17.0",
          "state": {
            "_model_module": "jupyter-leaflet",
            "_model_module_version": "^0.17.0",
            "_model_name": "LeafletTileLayerModel",
            "_view_count": null,
            "_view_module": "jupyter-leaflet",
            "_view_module_version": "^0.17.0",
            "_view_name": "LeafletTileLayerView",
            "attribution": "&copy; <a href=\"https://www.openstreetmap.org/copyright\">OpenStreetMap</a> contributors",
            "base": true,
            "bottom": true,
            "bounds": null,
            "detect_retina": false,
            "loading": false,
            "max_native_zoom": null,
            "max_zoom": 19,
            "min_native_zoom": null,
            "min_zoom": 1,
            "name": "OpenStreetMap.Mapnik",
            "no_wrap": false,
            "opacity": 1,
            "options": [
              "attribution",
              "bounds",
              "detect_retina",
              "max_native_zoom",
              "max_zoom",
              "min_native_zoom",
              "min_zoom",
              "no_wrap",
              "tile_size",
              "tms"
            ],
            "pane": "",
            "popup": null,
            "popup_max_height": null,
            "popup_max_width": 300,
            "popup_min_width": 50,
            "show_loading": false,
            "tile_size": 256,
            "tms": false,
            "url": "https://a.tile.openstreetmap.org/{z}/{x}/{y}.png",
            "visible": true
          }
        },
        "8b88cb7d2a3b45ef80dda9290eda4c0c": {
          "model_module": "jupyter-leaflet",
          "model_name": "LeafletTileLayerModel",
          "model_module_version": "^0.17.0",
          "state": {
            "_model_module": "jupyter-leaflet",
            "_model_module_version": "^0.17.0",
            "_model_name": "LeafletTileLayerModel",
            "_view_count": null,
            "_view_module": "jupyter-leaflet",
            "_view_module_version": "^0.17.0",
            "_view_name": "LeafletTileLayerView",
            "attribution": "Google",
            "base": false,
            "bottom": true,
            "bounds": null,
            "detect_retina": false,
            "loading": false,
            "max_native_zoom": null,
            "max_zoom": 22,
            "min_native_zoom": null,
            "min_zoom": 0,
            "name": "Google Maps",
            "no_wrap": false,
            "opacity": 1,
            "options": [
              "attribution",
              "bounds",
              "detect_retina",
              "max_native_zoom",
              "max_zoom",
              "min_native_zoom",
              "min_zoom",
              "no_wrap",
              "tile_size",
              "tms"
            ],
            "pane": "",
            "popup": null,
            "popup_max_height": null,
            "popup_max_width": 300,
            "popup_min_width": 50,
            "show_loading": false,
            "tile_size": 256,
            "tms": false,
            "url": "https://mt1.google.com/vt/lyrs=m&x={x}&y={y}&z={z}",
            "visible": true
          }
        },
        "904e4a8034e24d218be293e1d2f82650": {
          "model_module": "jupyter-leaflet",
          "model_name": "LeafletTileLayerModel",
          "model_module_version": "^0.17.0",
          "state": {
            "_model_module": "jupyter-leaflet",
            "_model_module_version": "^0.17.0",
            "_model_name": "LeafletTileLayerModel",
            "_view_count": null,
            "_view_module": "jupyter-leaflet",
            "_view_module_version": "^0.17.0",
            "_view_name": "LeafletTileLayerView",
            "attribution": "Google Earth Engine",
            "base": false,
            "bottom": true,
            "bounds": null,
            "detect_retina": false,
            "loading": false,
            "max_native_zoom": null,
            "max_zoom": 24,
            "min_native_zoom": null,
            "min_zoom": 0,
            "name": "NDVI Composite",
            "no_wrap": false,
            "opacity": 1,
            "options": [
              "attribution",
              "bounds",
              "detect_retina",
              "max_native_zoom",
              "max_zoom",
              "min_native_zoom",
              "min_zoom",
              "no_wrap",
              "tile_size",
              "tms"
            ],
            "pane": "",
            "popup": null,
            "popup_max_height": null,
            "popup_max_width": 300,
            "popup_min_width": 50,
            "show_loading": false,
            "tile_size": 256,
            "tms": false,
            "url": "https://earthengine.googleapis.com/v1alpha/projects/earthengine-legacy/maps/7cdbac1557b654747bb957b9297e0a7c-e383d0fa289270d61d43ff2c0139c84c/tiles/{z}/{x}/{y}",
            "visible": true
          }
        },
        "91249b483b714ae1bb2f26096b75aba5": {
          "model_module": "@jupyter-widgets/base",
          "model_name": "LayoutModel",
          "model_module_version": "1.2.0",
          "state": {
            "_model_module": "@jupyter-widgets/base",
            "_model_module_version": "1.2.0",
            "_model_name": "LayoutModel",
            "_view_count": null,
            "_view_module": "@jupyter-widgets/base",
            "_view_module_version": "1.2.0",
            "_view_name": "LayoutView",
            "align_content": null,
            "align_items": null,
            "align_self": null,
            "border": null,
            "bottom": null,
            "display": null,
            "flex": null,
            "flex_flow": null,
            "grid_area": null,
            "grid_auto_columns": null,
            "grid_auto_flow": null,
            "grid_auto_rows": null,
            "grid_column": null,
            "grid_gap": null,
            "grid_row": null,
            "grid_template_areas": null,
            "grid_template_columns": null,
            "grid_template_rows": null,
            "height": "600px",
            "justify_content": null,
            "justify_items": null,
            "left": null,
            "margin": null,
            "max_height": null,
            "max_width": null,
            "min_height": null,
            "min_width": null,
            "object_fit": null,
            "object_position": null,
            "order": null,
            "overflow": null,
            "overflow_x": null,
            "overflow_y": null,
            "padding": null,
            "right": null,
            "top": null,
            "visibility": null,
            "width": null
          }
        },
        "d59a6a4837e24ab399eb4d8301df1b10": {
          "model_module": "jupyter-leaflet",
          "model_name": "LeafletMapStyleModel",
          "model_module_version": "^0.17.0",
          "state": {
            "_model_module": "jupyter-leaflet",
            "_model_module_version": "^0.17.0",
            "_model_name": "LeafletMapStyleModel",
            "_view_count": null,
            "_view_module": "@jupyter-widgets/base",
            "_view_module_version": "1.2.0",
            "_view_name": "StyleView",
            "cursor": "grab"
          }
        },
        "9a6e78026c4e4633a7b814739c3a5b64": {
          "model_module": "@jupyter-widgets/controls",
          "model_name": "HBoxModel",
          "model_module_version": "1.5.0",
          "state": {
            "_dom_classes": [],
            "_model_module": "@jupyter-widgets/controls",
            "_model_module_version": "1.5.0",
            "_model_name": "HBoxModel",
            "_view_count": null,
            "_view_module": "@jupyter-widgets/controls",
            "_view_module_version": "1.5.0",
            "_view_name": "HBoxView",
            "box_style": "",
            "children": [
              "IPY_MODEL_adae9a839be7436486f4657b088b5981"
            ],
            "layout": "IPY_MODEL_d93309aaebb64ebc9286e0ddd4d395fb"
          }
        },
        "a9985b2f89c0494aac4d660139f114bb": {
          "model_module": "@jupyter-widgets/controls",
          "model_name": "VBoxModel",
          "model_module_version": "1.5.0",
          "state": {
            "_dom_classes": [],
            "_model_module": "@jupyter-widgets/controls",
            "_model_module_version": "1.5.0",
            "_model_name": "VBoxModel",
            "_view_count": null,
            "_view_module": "@jupyter-widgets/controls",
            "_view_module_version": "1.5.0",
            "_view_name": "VBoxView",
            "box_style": "",
            "children": [
              "IPY_MODEL_9e82755446b94af484ae2c0fbe188691"
            ],
            "layout": "IPY_MODEL_e893cd39362b423fbc879b4efbf80a08"
          }
        },
        "adae9a839be7436486f4657b088b5981": {
          "model_module": "@jupyter-widgets/controls",
          "model_name": "ToggleButtonModel",
          "model_module_version": "1.5.0",
          "state": {
            "_dom_classes": [],
            "_model_module": "@jupyter-widgets/controls",
            "_model_module_version": "1.5.0",
            "_model_name": "ToggleButtonModel",
            "_view_count": null,
            "_view_module": "@jupyter-widgets/controls",
            "_view_module_version": "1.5.0",
            "_view_name": "ToggleButtonView",
            "button_style": "",
            "description": "",
            "description_tooltip": null,
            "disabled": false,
            "icon": "globe",
            "layout": "IPY_MODEL_748bf895af6649b5b9f2cc208df1d134",
            "style": "IPY_MODEL_cea4a50cf145491eb2205fdb945208aa",
            "tooltip": "Search location/data",
            "value": false
          }
        },
        "d93309aaebb64ebc9286e0ddd4d395fb": {
          "model_module": "@jupyter-widgets/base",
          "model_name": "LayoutModel",
          "model_module_version": "1.2.0",
          "state": {
            "_model_module": "@jupyter-widgets/base",
            "_model_module_version": "1.2.0",
            "_model_name": "LayoutModel",
            "_view_count": null,
            "_view_module": "@jupyter-widgets/base",
            "_view_module_version": "1.2.0",
            "_view_name": "LayoutView",
            "align_content": null,
            "align_items": null,
            "align_self": null,
            "border": null,
            "bottom": null,
            "display": null,
            "flex": null,
            "flex_flow": null,
            "grid_area": null,
            "grid_auto_columns": null,
            "grid_auto_flow": null,
            "grid_auto_rows": null,
            "grid_column": null,
            "grid_gap": null,
            "grid_row": null,
            "grid_template_areas": null,
            "grid_template_columns": null,
            "grid_template_rows": null,
            "height": null,
            "justify_content": null,
            "justify_items": null,
            "left": null,
            "margin": null,
            "max_height": null,
            "max_width": null,
            "min_height": null,
            "min_width": null,
            "object_fit": null,
            "object_position": null,
            "order": null,
            "overflow": null,
            "overflow_x": null,
            "overflow_y": null,
            "padding": null,
            "right": null,
            "top": null,
            "visibility": null,
            "width": null
          }
        },
        "9e82755446b94af484ae2c0fbe188691": {
          "model_module": "@jupyter-widgets/controls",
          "model_name": "ToggleButtonModel",
          "model_module_version": "1.5.0",
          "state": {
            "_dom_classes": [],
            "_model_module": "@jupyter-widgets/controls",
            "_model_module_version": "1.5.0",
            "_model_name": "ToggleButtonModel",
            "_view_count": null,
            "_view_module": "@jupyter-widgets/controls",
            "_view_module_version": "1.5.0",
            "_view_name": "ToggleButtonView",
            "button_style": "",
            "description": "",
            "description_tooltip": null,
            "disabled": false,
            "icon": "wrench",
            "layout": "IPY_MODEL_a9f9a9b8155b461d8cef4b7114e655fd",
            "style": "IPY_MODEL_55e646a996574dd7add9f527f4c7d71a",
            "tooltip": "Toolbar",
            "value": false
          }
        },
        "e893cd39362b423fbc879b4efbf80a08": {
          "model_module": "@jupyter-widgets/base",
          "model_name": "LayoutModel",
          "model_module_version": "1.2.0",
          "state": {
            "_model_module": "@jupyter-widgets/base",
            "_model_module_version": "1.2.0",
            "_model_name": "LayoutModel",
            "_view_count": null,
            "_view_module": "@jupyter-widgets/base",
            "_view_module_version": "1.2.0",
            "_view_name": "LayoutView",
            "align_content": null,
            "align_items": null,
            "align_self": null,
            "border": null,
            "bottom": null,
            "display": null,
            "flex": null,
            "flex_flow": null,
            "grid_area": null,
            "grid_auto_columns": null,
            "grid_auto_flow": null,
            "grid_auto_rows": null,
            "grid_column": null,
            "grid_gap": null,
            "grid_row": null,
            "grid_template_areas": null,
            "grid_template_columns": null,
            "grid_template_rows": null,
            "height": null,
            "justify_content": null,
            "justify_items": null,
            "left": null,
            "margin": null,
            "max_height": null,
            "max_width": null,
            "min_height": null,
            "min_width": null,
            "object_fit": null,
            "object_position": null,
            "order": null,
            "overflow": null,
            "overflow_x": null,
            "overflow_y": null,
            "padding": null,
            "right": null,
            "top": null,
            "visibility": null,
            "width": null
          }
        },
        "748bf895af6649b5b9f2cc208df1d134": {
          "model_module": "@jupyter-widgets/base",
          "model_name": "LayoutModel",
          "model_module_version": "1.2.0",
          "state": {
            "_model_module": "@jupyter-widgets/base",
            "_model_module_version": "1.2.0",
            "_model_name": "LayoutModel",
            "_view_count": null,
            "_view_module": "@jupyter-widgets/base",
            "_view_module_version": "1.2.0",
            "_view_name": "LayoutView",
            "align_content": null,
            "align_items": null,
            "align_self": null,
            "border": null,
            "bottom": null,
            "display": null,
            "flex": null,
            "flex_flow": null,
            "grid_area": null,
            "grid_auto_columns": null,
            "grid_auto_flow": null,
            "grid_auto_rows": null,
            "grid_column": null,
            "grid_gap": null,
            "grid_row": null,
            "grid_template_areas": null,
            "grid_template_columns": null,
            "grid_template_rows": null,
            "height": "28px",
            "justify_content": null,
            "justify_items": null,
            "left": null,
            "margin": null,
            "max_height": null,
            "max_width": null,
            "min_height": null,
            "min_width": null,
            "object_fit": null,
            "object_position": null,
            "order": null,
            "overflow": null,
            "overflow_x": null,
            "overflow_y": null,
            "padding": "0px 0px 0px 4px",
            "right": null,
            "top": null,
            "visibility": null,
            "width": "28px"
          }
        },
        "cea4a50cf145491eb2205fdb945208aa": {
          "model_module": "@jupyter-widgets/controls",
          "model_name": "DescriptionStyleModel",
          "model_module_version": "1.5.0",
          "state": {
            "_model_module": "@jupyter-widgets/controls",
            "_model_module_version": "1.5.0",
            "_model_name": "DescriptionStyleModel",
            "_view_count": null,
            "_view_module": "@jupyter-widgets/base",
            "_view_module_version": "1.2.0",
            "_view_name": "StyleView",
            "description_width": ""
          }
        },
        "a9f9a9b8155b461d8cef4b7114e655fd": {
          "model_module": "@jupyter-widgets/base",
          "model_name": "LayoutModel",
          "model_module_version": "1.2.0",
          "state": {
            "_model_module": "@jupyter-widgets/base",
            "_model_module_version": "1.2.0",
            "_model_name": "LayoutModel",
            "_view_count": null,
            "_view_module": "@jupyter-widgets/base",
            "_view_module_version": "1.2.0",
            "_view_name": "LayoutView",
            "align_content": null,
            "align_items": null,
            "align_self": null,
            "border": null,
            "bottom": null,
            "display": null,
            "flex": null,
            "flex_flow": null,
            "grid_area": null,
            "grid_auto_columns": null,
            "grid_auto_flow": null,
            "grid_auto_rows": null,
            "grid_column": null,
            "grid_gap": null,
            "grid_row": null,
            "grid_template_areas": null,
            "grid_template_columns": null,
            "grid_template_rows": null,
            "height": "28px",
            "justify_content": null,
            "justify_items": null,
            "left": null,
            "margin": null,
            "max_height": null,
            "max_width": null,
            "min_height": null,
            "min_width": null,
            "object_fit": null,
            "object_position": null,
            "order": null,
            "overflow": null,
            "overflow_x": null,
            "overflow_y": null,
            "padding": "0px 0px 0px 4px",
            "right": null,
            "top": null,
            "visibility": null,
            "width": "28px"
          }
        },
        "55e646a996574dd7add9f527f4c7d71a": {
          "model_module": "@jupyter-widgets/controls",
          "model_name": "DescriptionStyleModel",
          "model_module_version": "1.5.0",
          "state": {
            "_model_module": "@jupyter-widgets/controls",
            "_model_module_version": "1.5.0",
            "_model_name": "DescriptionStyleModel",
            "_view_count": null,
            "_view_module": "@jupyter-widgets/base",
            "_view_module_version": "1.2.0",
            "_view_name": "StyleView",
            "description_width": ""
          }
        },
        "f08a4d6f99df439aa3dd5ee671f0163d": {
          "model_module": "jupyter-leaflet",
          "model_name": "LeafletMapModel",
          "model_module_version": "^0.17.0",
          "state": {
            "_dom_classes": [],
            "_model_module": "jupyter-leaflet",
            "_model_module_version": "^0.17.0",
            "_model_name": "LeafletMapModel",
            "_view_count": null,
            "_view_module": "jupyter-leaflet",
            "_view_module_version": "^0.17.0",
            "_view_name": "LeafletMapView",
            "bottom": 7801,
            "bounce_at_zoom_limits": true,
            "box_zoom": true,
            "center": [
              15.015122859207736,
              76.31527137512381
            ],
            "close_popup_on_click": true,
            "controls": [
              "IPY_MODEL_2882330062334ffda2e9695f60cd73a2",
              "IPY_MODEL_db1de7d86b8e4706a756cf7435007df6",
              "IPY_MODEL_4431c43875b94b40aa69ea975492c1b8",
              "IPY_MODEL_3cbf9656496e49aaa3b6db41948a4feb",
              "IPY_MODEL_6b7c1a5e83f6402da3293eec6fa4e068",
              "IPY_MODEL_f1a93b6bf57d411fae3851f08003e0a6",
              "IPY_MODEL_20de1a7965ef46b4b74f2b5db927abde",
              "IPY_MODEL_cbab6b31635e452699c4a952e588271e"
            ],
            "crs": {
              "name": "EPSG3857",
              "custom": false
            },
            "default_style": "IPY_MODEL_67f1a417d5724371963c76c0b8d24847",
            "double_click_zoom": true,
            "dragging": true,
            "dragging_style": "IPY_MODEL_f6471af748ed43dea0fcf815a19f950a",
            "east": 90.39550781250001,
            "fullscreen": false,
            "inertia": true,
            "inertia_deceleration": 3000,
            "inertia_max_speed": 1500,
            "interpolation": "bilinear",
            "keyboard": true,
            "keyboard_pan_offset": 80,
            "keyboard_zoom_offset": 1,
            "layers": [
              "IPY_MODEL_f015926bf5cd40f690c3bca1e114f896",
              "IPY_MODEL_8b88cb7d2a3b45ef80dda9290eda4c0c",
              "IPY_MODEL_e90fb2a3b3434ea5a1f59a4c5a0d5ce7"
            ],
            "layout": "IPY_MODEL_255dfb8fbc1d42198da71323a5cdb540",
            "left": 11024,
            "max_zoom": 24,
            "min_zoom": null,
            "modisdate": "2022-07-29",
            "north": 21.268899719967695,
            "options": [
              "bounce_at_zoom_limits",
              "box_zoom",
              "center",
              "close_popup_on_click",
              "double_click_zoom",
              "dragging",
              "fullscreen",
              "inertia",
              "inertia_deceleration",
              "inertia_max_speed",
              "interpolation",
              "keyboard",
              "keyboard_pan_offset",
              "keyboard_zoom_offset",
              "max_zoom",
              "min_zoom",
              "prefer_canvas",
              "scroll_wheel_zoom",
              "tap",
              "tap_tolerance",
              "touch_zoom",
              "world_copy_jump",
              "zoom",
              "zoom_animation_threshold",
              "zoom_delta",
              "zoom_snap"
            ],
            "panes": {},
            "prefer_canvas": false,
            "right": 12306,
            "scroll_wheel_zoom": true,
            "south": 8.559293903302025,
            "style": "IPY_MODEL_67f1a417d5724371963c76c0b8d24847",
            "tap": true,
            "tap_tolerance": 15,
            "top": 7201,
            "touch_zoom": true,
            "west": 62.22656250000001,
            "window_url": "https://u4t1hi0dlr-496ff2e9c6d22116-0-colab.googleusercontent.com/outputframe.html?vrz=colab-20220728-060048-RC00_463807217",
            "world_copy_jump": false,
            "zoom": 6,
            "zoom_animation_threshold": 4,
            "zoom_delta": 1,
            "zoom_snap": 1
          }
        },
        "2882330062334ffda2e9695f60cd73a2": {
          "model_module": "jupyter-leaflet",
          "model_name": "LeafletWidgetControlModel",
          "model_module_version": "^0.17.0",
          "state": {
            "_model_module": "jupyter-leaflet",
            "_model_module_version": "^0.17.0",
            "_model_name": "LeafletWidgetControlModel",
            "_view_count": null,
            "_view_module": "jupyter-leaflet",
            "_view_module_version": "^0.17.0",
            "_view_name": "LeafletWidgetControlView",
            "max_height": null,
            "max_width": null,
            "min_height": null,
            "min_width": null,
            "options": [
              "position",
              "transparent_bg"
            ],
            "position": "topleft",
            "transparent_bg": false,
            "widget": "IPY_MODEL_332c49c7f0dc43dd89a2e782f2213c40"
          }
        },
        "db1de7d86b8e4706a756cf7435007df6": {
          "model_module": "jupyter-leaflet",
          "model_name": "LeafletZoomControlModel",
          "model_module_version": "^0.17.0",
          "state": {
            "_model_module": "jupyter-leaflet",
            "_model_module_version": "^0.17.0",
            "_model_name": "LeafletZoomControlModel",
            "_view_count": null,
            "_view_module": "jupyter-leaflet",
            "_view_module_version": "^0.17.0",
            "_view_name": "LeafletZoomControlView",
            "options": [
              "position",
              "zoom_in_text",
              "zoom_in_title",
              "zoom_out_text",
              "zoom_out_title"
            ],
            "position": "topleft",
            "zoom_in_text": "+",
            "zoom_in_title": "Zoom in",
            "zoom_out_text": "-",
            "zoom_out_title": "Zoom out"
          }
        },
        "4431c43875b94b40aa69ea975492c1b8": {
          "model_module": "jupyter-leaflet",
          "model_name": "LeafletScaleControlModel",
          "model_module_version": "^0.17.0",
          "state": {
            "_model_module": "jupyter-leaflet",
            "_model_module_version": "^0.17.0",
            "_model_name": "LeafletScaleControlModel",
            "_view_count": null,
            "_view_module": "jupyter-leaflet",
            "_view_module_version": "^0.17.0",
            "_view_name": "LeafletScaleControlView",
            "imperial": true,
            "max_width": 100,
            "metric": true,
            "options": [
              "imperial",
              "max_width",
              "metric",
              "position",
              "update_when_idle"
            ],
            "position": "bottomleft",
            "update_when_idle": false
          }
        },
        "3cbf9656496e49aaa3b6db41948a4feb": {
          "model_module": "jupyter-leaflet",
          "model_name": "LeafletFullScreenControlModel",
          "model_module_version": "^0.17.0",
          "state": {
            "_model_module": "jupyter-leaflet",
            "_model_module_version": "^0.17.0",
            "_model_name": "LeafletFullScreenControlModel",
            "_view_count": null,
            "_view_module": "jupyter-leaflet",
            "_view_module_version": "^0.17.0",
            "_view_name": "LeafletFullScreenControlView",
            "options": [
              "position"
            ],
            "position": "topleft"
          }
        },
        "6b7c1a5e83f6402da3293eec6fa4e068": {
          "model_module": "jupyter-leaflet",
          "model_name": "LeafletMeasureControlModel",
          "model_module_version": "^0.17.0",
          "state": {
            "_custom_units": {},
            "_model_module": "jupyter-leaflet",
            "_model_module_version": "^0.17.0",
            "_model_name": "LeafletMeasureControlModel",
            "_view_count": null,
            "_view_module": "jupyter-leaflet",
            "_view_module_version": "^0.17.0",
            "_view_name": "LeafletMeasureControlView",
            "active_color": "orange",
            "capture_z_index": 10000,
            "completed_color": "#C8F2BE",
            "options": [
              "active_color",
              "capture_z_index",
              "completed_color",
              "popup_options",
              "position",
              "primary_area_unit",
              "primary_length_unit",
              "secondary_area_unit",
              "secondary_length_unit"
            ],
            "popup_options": {
              "className": "leaflet-measure-resultpopup",
              "autoPanPadding": [
                10,
                10
              ]
            },
            "position": "bottomleft",
            "primary_area_unit": "acres",
            "primary_length_unit": "kilometers",
            "secondary_area_unit": null,
            "secondary_length_unit": null
          }
        },
        "f1a93b6bf57d411fae3851f08003e0a6": {
          "model_module": "jupyter-leaflet",
          "model_name": "LeafletAttributionControlModel",
          "model_module_version": "^0.17.0",
          "state": {
            "_model_module": "jupyter-leaflet",
            "_model_module_version": "^0.17.0",
            "_model_name": "LeafletAttributionControlModel",
            "_view_count": null,
            "_view_module": "jupyter-leaflet",
            "_view_module_version": "^0.17.0",
            "_view_name": "LeafletAttributionControlView",
            "options": [
              "position",
              "prefix"
            ],
            "position": "bottomright",
            "prefix": "ipyleaflet"
          }
        },
        "20de1a7965ef46b4b74f2b5db927abde": {
          "model_module": "jupyter-leaflet",
          "model_name": "LeafletDrawControlModel",
          "model_module_version": "^0.17.0",
          "state": {
            "_model_module": "jupyter-leaflet",
            "_model_module_version": "^0.17.0",
            "_model_name": "LeafletDrawControlModel",
            "_view_count": null,
            "_view_module": "jupyter-leaflet",
            "_view_module_version": "^0.17.0",
            "_view_name": "LeafletDrawControlView",
            "circle": {
              "shapeOptions": {
                "color": "#3388ff"
              }
            },
            "circlemarker": {},
            "data": [],
            "edit": true,
            "marker": {
              "shapeOptions": {
                "color": "#3388ff"
              }
            },
            "options": [
              "position"
            ],
            "polygon": {
              "shapeOptions": {}
            },
            "polyline": {
              "shapeOptions": {}
            },
            "position": "topleft",
            "rectangle": {
              "shapeOptions": {
                "color": "#3388ff"
              }
            },
            "remove": true
          }
        },
        "cbab6b31635e452699c4a952e588271e": {
          "model_module": "jupyter-leaflet",
          "model_name": "LeafletWidgetControlModel",
          "model_module_version": "^0.17.0",
          "state": {
            "_model_module": "jupyter-leaflet",
            "_model_module_version": "^0.17.0",
            "_model_name": "LeafletWidgetControlModel",
            "_view_count": null,
            "_view_module": "jupyter-leaflet",
            "_view_module_version": "^0.17.0",
            "_view_name": "LeafletWidgetControlView",
            "max_height": null,
            "max_width": null,
            "min_height": null,
            "min_width": null,
            "options": [
              "position",
              "transparent_bg"
            ],
            "position": "topright",
            "transparent_bg": false,
            "widget": "IPY_MODEL_5655dd28728d40c78ada3c2eb499a734"
          }
        },
        "67f1a417d5724371963c76c0b8d24847": {
          "model_module": "jupyter-leaflet",
          "model_name": "LeafletMapStyleModel",
          "model_module_version": "^0.17.0",
          "state": {
            "_model_module": "jupyter-leaflet",
            "_model_module_version": "^0.17.0",
            "_model_name": "LeafletMapStyleModel",
            "_view_count": null,
            "_view_module": "@jupyter-widgets/base",
            "_view_module_version": "1.2.0",
            "_view_name": "StyleView",
            "cursor": "grab"
          }
        },
        "f6471af748ed43dea0fcf815a19f950a": {
          "model_module": "jupyter-leaflet",
          "model_name": "LeafletMapStyleModel",
          "model_module_version": "^0.17.0",
          "state": {
            "_model_module": "jupyter-leaflet",
            "_model_module_version": "^0.17.0",
            "_model_name": "LeafletMapStyleModel",
            "_view_count": null,
            "_view_module": "@jupyter-widgets/base",
            "_view_module_version": "1.2.0",
            "_view_name": "StyleView",
            "cursor": "move"
          }
        },
        "f015926bf5cd40f690c3bca1e114f896": {
          "model_module": "jupyter-leaflet",
          "model_name": "LeafletTileLayerModel",
          "model_module_version": "^0.17.0",
          "state": {
            "_model_module": "jupyter-leaflet",
            "_model_module_version": "^0.17.0",
            "_model_name": "LeafletTileLayerModel",
            "_view_count": null,
            "_view_module": "jupyter-leaflet",
            "_view_module_version": "^0.17.0",
            "_view_name": "LeafletTileLayerView",
            "attribution": "&copy; <a href=\"https://www.openstreetmap.org/copyright\">OpenStreetMap</a> contributors",
            "base": true,
            "bottom": true,
            "bounds": null,
            "detect_retina": false,
            "loading": false,
            "max_native_zoom": null,
            "max_zoom": 19,
            "min_native_zoom": null,
            "min_zoom": 1,
            "name": "OpenStreetMap.Mapnik",
            "no_wrap": false,
            "opacity": 1,
            "options": [
              "attribution",
              "bounds",
              "detect_retina",
              "max_native_zoom",
              "max_zoom",
              "min_native_zoom",
              "min_zoom",
              "no_wrap",
              "tile_size",
              "tms"
            ],
            "pane": "",
            "popup": null,
            "popup_max_height": null,
            "popup_max_width": 300,
            "popup_min_width": 50,
            "show_loading": false,
            "tile_size": 256,
            "tms": false,
            "url": "https://a.tile.openstreetmap.org/{z}/{x}/{y}.png",
            "visible": true
          }
        },
        "e90fb2a3b3434ea5a1f59a4c5a0d5ce7": {
          "model_module": "jupyter-leaflet",
          "model_name": "LeafletTileLayerModel",
          "model_module_version": "^0.17.0",
          "state": {
            "_model_module": "jupyter-leaflet",
            "_model_module_version": "^0.17.0",
            "_model_name": "LeafletTileLayerModel",
            "_view_count": null,
            "_view_module": "jupyter-leaflet",
            "_view_module_version": "^0.17.0",
            "_view_name": "LeafletTileLayerView",
            "attribution": "Google Earth Engine",
            "base": false,
            "bottom": true,
            "bounds": null,
            "detect_retina": false,
            "loading": false,
            "max_native_zoom": null,
            "max_zoom": 24,
            "min_native_zoom": null,
            "min_zoom": 0,
            "name": "Karnataka Districts",
            "no_wrap": false,
            "opacity": 1,
            "options": [
              "attribution",
              "bounds",
              "detect_retina",
              "max_native_zoom",
              "max_zoom",
              "min_native_zoom",
              "min_zoom",
              "no_wrap",
              "tile_size",
              "tms"
            ],
            "pane": "",
            "popup": null,
            "popup_max_height": null,
            "popup_max_width": 300,
            "popup_min_width": 50,
            "show_loading": false,
            "tile_size": 256,
            "tms": false,
            "url": "https://earthengine.googleapis.com/v1alpha/projects/earthengine-legacy/maps/905d3d48090686002180025b93697085-63d0551b6e2846f7a5666888262707ce/tiles/{z}/{x}/{y}",
            "visible": true
          }
        },
        "255dfb8fbc1d42198da71323a5cdb540": {
          "model_module": "@jupyter-widgets/base",
          "model_name": "LayoutModel",
          "model_module_version": "1.2.0",
          "state": {
            "_model_module": "@jupyter-widgets/base",
            "_model_module_version": "1.2.0",
            "_model_name": "LayoutModel",
            "_view_count": null,
            "_view_module": "@jupyter-widgets/base",
            "_view_module_version": "1.2.0",
            "_view_name": "LayoutView",
            "align_content": null,
            "align_items": null,
            "align_self": null,
            "border": null,
            "bottom": null,
            "display": null,
            "flex": null,
            "flex_flow": null,
            "grid_area": null,
            "grid_auto_columns": null,
            "grid_auto_flow": null,
            "grid_auto_rows": null,
            "grid_column": null,
            "grid_gap": null,
            "grid_row": null,
            "grid_template_areas": null,
            "grid_template_columns": null,
            "grid_template_rows": null,
            "height": "600px",
            "justify_content": null,
            "justify_items": null,
            "left": null,
            "margin": null,
            "max_height": null,
            "max_width": null,
            "min_height": null,
            "min_width": null,
            "object_fit": null,
            "object_position": null,
            "order": null,
            "overflow": null,
            "overflow_x": null,
            "overflow_y": null,
            "padding": null,
            "right": null,
            "top": null,
            "visibility": null,
            "width": null
          }
        },
        "ce0bc17aae874b9fb459de0ea68c34ef": {
          "model_module": "jupyter-leaflet",
          "model_name": "LeafletMapStyleModel",
          "model_module_version": "^0.17.0",
          "state": {
            "_model_module": "jupyter-leaflet",
            "_model_module_version": "^0.17.0",
            "_model_name": "LeafletMapStyleModel",
            "_view_count": null,
            "_view_module": "@jupyter-widgets/base",
            "_view_module_version": "1.2.0",
            "_view_name": "StyleView",
            "cursor": "grab"
          }
        },
        "332c49c7f0dc43dd89a2e782f2213c40": {
          "model_module": "@jupyter-widgets/controls",
          "model_name": "HBoxModel",
          "model_module_version": "1.5.0",
          "state": {
            "_dom_classes": [],
            "_model_module": "@jupyter-widgets/controls",
            "_model_module_version": "1.5.0",
            "_model_name": "HBoxModel",
            "_view_count": null,
            "_view_module": "@jupyter-widgets/controls",
            "_view_module_version": "1.5.0",
            "_view_name": "HBoxView",
            "box_style": "",
            "children": [
              "IPY_MODEL_96585020b9644ebc971499034a87d189"
            ],
            "layout": "IPY_MODEL_1ca0402ebcca4e799ca33f7f61389cb1"
          }
        },
        "5655dd28728d40c78ada3c2eb499a734": {
          "model_module": "@jupyter-widgets/controls",
          "model_name": "VBoxModel",
          "model_module_version": "1.5.0",
          "state": {
            "_dom_classes": [],
            "_model_module": "@jupyter-widgets/controls",
            "_model_module_version": "1.5.0",
            "_model_name": "VBoxModel",
            "_view_count": null,
            "_view_module": "@jupyter-widgets/controls",
            "_view_module_version": "1.5.0",
            "_view_name": "VBoxView",
            "box_style": "",
            "children": [
              "IPY_MODEL_79869621222d480ab3a4650eb1cb975b"
            ],
            "layout": "IPY_MODEL_90307477471d43d784234acc8edb0d0e"
          }
        },
        "96585020b9644ebc971499034a87d189": {
          "model_module": "@jupyter-widgets/controls",
          "model_name": "ToggleButtonModel",
          "model_module_version": "1.5.0",
          "state": {
            "_dom_classes": [],
            "_model_module": "@jupyter-widgets/controls",
            "_model_module_version": "1.5.0",
            "_model_name": "ToggleButtonModel",
            "_view_count": null,
            "_view_module": "@jupyter-widgets/controls",
            "_view_module_version": "1.5.0",
            "_view_name": "ToggleButtonView",
            "button_style": "",
            "description": "",
            "description_tooltip": null,
            "disabled": false,
            "icon": "globe",
            "layout": "IPY_MODEL_7e4e50ca58d147edba8530995e875017",
            "style": "IPY_MODEL_ee27f64d34164c54a0542e73370d116b",
            "tooltip": "Search location/data",
            "value": false
          }
        },
        "1ca0402ebcca4e799ca33f7f61389cb1": {
          "model_module": "@jupyter-widgets/base",
          "model_name": "LayoutModel",
          "model_module_version": "1.2.0",
          "state": {
            "_model_module": "@jupyter-widgets/base",
            "_model_module_version": "1.2.0",
            "_model_name": "LayoutModel",
            "_view_count": null,
            "_view_module": "@jupyter-widgets/base",
            "_view_module_version": "1.2.0",
            "_view_name": "LayoutView",
            "align_content": null,
            "align_items": null,
            "align_self": null,
            "border": null,
            "bottom": null,
            "display": null,
            "flex": null,
            "flex_flow": null,
            "grid_area": null,
            "grid_auto_columns": null,
            "grid_auto_flow": null,
            "grid_auto_rows": null,
            "grid_column": null,
            "grid_gap": null,
            "grid_row": null,
            "grid_template_areas": null,
            "grid_template_columns": null,
            "grid_template_rows": null,
            "height": null,
            "justify_content": null,
            "justify_items": null,
            "left": null,
            "margin": null,
            "max_height": null,
            "max_width": null,
            "min_height": null,
            "min_width": null,
            "object_fit": null,
            "object_position": null,
            "order": null,
            "overflow": null,
            "overflow_x": null,
            "overflow_y": null,
            "padding": null,
            "right": null,
            "top": null,
            "visibility": null,
            "width": null
          }
        },
        "79869621222d480ab3a4650eb1cb975b": {
          "model_module": "@jupyter-widgets/controls",
          "model_name": "ToggleButtonModel",
          "model_module_version": "1.5.0",
          "state": {
            "_dom_classes": [],
            "_model_module": "@jupyter-widgets/controls",
            "_model_module_version": "1.5.0",
            "_model_name": "ToggleButtonModel",
            "_view_count": null,
            "_view_module": "@jupyter-widgets/controls",
            "_view_module_version": "1.5.0",
            "_view_name": "ToggleButtonView",
            "button_style": "",
            "description": "",
            "description_tooltip": null,
            "disabled": false,
            "icon": "wrench",
            "layout": "IPY_MODEL_62e9e25cb979431c93dd56a01f7fb4c5",
            "style": "IPY_MODEL_e8663d8d2005456880d9238781fe4805",
            "tooltip": "Toolbar",
            "value": false
          }
        },
        "90307477471d43d784234acc8edb0d0e": {
          "model_module": "@jupyter-widgets/base",
          "model_name": "LayoutModel",
          "model_module_version": "1.2.0",
          "state": {
            "_model_module": "@jupyter-widgets/base",
            "_model_module_version": "1.2.0",
            "_model_name": "LayoutModel",
            "_view_count": null,
            "_view_module": "@jupyter-widgets/base",
            "_view_module_version": "1.2.0",
            "_view_name": "LayoutView",
            "align_content": null,
            "align_items": null,
            "align_self": null,
            "border": null,
            "bottom": null,
            "display": null,
            "flex": null,
            "flex_flow": null,
            "grid_area": null,
            "grid_auto_columns": null,
            "grid_auto_flow": null,
            "grid_auto_rows": null,
            "grid_column": null,
            "grid_gap": null,
            "grid_row": null,
            "grid_template_areas": null,
            "grid_template_columns": null,
            "grid_template_rows": null,
            "height": null,
            "justify_content": null,
            "justify_items": null,
            "left": null,
            "margin": null,
            "max_height": null,
            "max_width": null,
            "min_height": null,
            "min_width": null,
            "object_fit": null,
            "object_position": null,
            "order": null,
            "overflow": null,
            "overflow_x": null,
            "overflow_y": null,
            "padding": null,
            "right": null,
            "top": null,
            "visibility": null,
            "width": null
          }
        },
        "7e4e50ca58d147edba8530995e875017": {
          "model_module": "@jupyter-widgets/base",
          "model_name": "LayoutModel",
          "model_module_version": "1.2.0",
          "state": {
            "_model_module": "@jupyter-widgets/base",
            "_model_module_version": "1.2.0",
            "_model_name": "LayoutModel",
            "_view_count": null,
            "_view_module": "@jupyter-widgets/base",
            "_view_module_version": "1.2.0",
            "_view_name": "LayoutView",
            "align_content": null,
            "align_items": null,
            "align_self": null,
            "border": null,
            "bottom": null,
            "display": null,
            "flex": null,
            "flex_flow": null,
            "grid_area": null,
            "grid_auto_columns": null,
            "grid_auto_flow": null,
            "grid_auto_rows": null,
            "grid_column": null,
            "grid_gap": null,
            "grid_row": null,
            "grid_template_areas": null,
            "grid_template_columns": null,
            "grid_template_rows": null,
            "height": "28px",
            "justify_content": null,
            "justify_items": null,
            "left": null,
            "margin": null,
            "max_height": null,
            "max_width": null,
            "min_height": null,
            "min_width": null,
            "object_fit": null,
            "object_position": null,
            "order": null,
            "overflow": null,
            "overflow_x": null,
            "overflow_y": null,
            "padding": "0px 0px 0px 4px",
            "right": null,
            "top": null,
            "visibility": null,
            "width": "28px"
          }
        },
        "ee27f64d34164c54a0542e73370d116b": {
          "model_module": "@jupyter-widgets/controls",
          "model_name": "DescriptionStyleModel",
          "model_module_version": "1.5.0",
          "state": {
            "_model_module": "@jupyter-widgets/controls",
            "_model_module_version": "1.5.0",
            "_model_name": "DescriptionStyleModel",
            "_view_count": null,
            "_view_module": "@jupyter-widgets/base",
            "_view_module_version": "1.2.0",
            "_view_name": "StyleView",
            "description_width": ""
          }
        },
        "62e9e25cb979431c93dd56a01f7fb4c5": {
          "model_module": "@jupyter-widgets/base",
          "model_name": "LayoutModel",
          "model_module_version": "1.2.0",
          "state": {
            "_model_module": "@jupyter-widgets/base",
            "_model_module_version": "1.2.0",
            "_model_name": "LayoutModel",
            "_view_count": null,
            "_view_module": "@jupyter-widgets/base",
            "_view_module_version": "1.2.0",
            "_view_name": "LayoutView",
            "align_content": null,
            "align_items": null,
            "align_self": null,
            "border": null,
            "bottom": null,
            "display": null,
            "flex": null,
            "flex_flow": null,
            "grid_area": null,
            "grid_auto_columns": null,
            "grid_auto_flow": null,
            "grid_auto_rows": null,
            "grid_column": null,
            "grid_gap": null,
            "grid_row": null,
            "grid_template_areas": null,
            "grid_template_columns": null,
            "grid_template_rows": null,
            "height": "28px",
            "justify_content": null,
            "justify_items": null,
            "left": null,
            "margin": null,
            "max_height": null,
            "max_width": null,
            "min_height": null,
            "min_width": null,
            "object_fit": null,
            "object_position": null,
            "order": null,
            "overflow": null,
            "overflow_x": null,
            "overflow_y": null,
            "padding": "0px 0px 0px 4px",
            "right": null,
            "top": null,
            "visibility": null,
            "width": "28px"
          }
        },
        "e8663d8d2005456880d9238781fe4805": {
          "model_module": "@jupyter-widgets/controls",
          "model_name": "DescriptionStyleModel",
          "model_module_version": "1.5.0",
          "state": {
            "_model_module": "@jupyter-widgets/controls",
            "_model_module_version": "1.5.0",
            "_model_name": "DescriptionStyleModel",
            "_view_count": null,
            "_view_module": "@jupyter-widgets/base",
            "_view_module_version": "1.2.0",
            "_view_name": "StyleView",
            "description_width": ""
          }
        }
      }
    }
  },
  "nbformat": 4,
  "nbformat_minor": 0
}