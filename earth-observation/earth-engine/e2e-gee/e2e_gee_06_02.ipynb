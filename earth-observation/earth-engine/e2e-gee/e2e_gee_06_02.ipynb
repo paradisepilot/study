{
  "cells": [
    {
      "cell_type": "markdown",
      "metadata": {
        "id": "WD-QeVYP2iMT"
      },
      "source": [
        "[geemap](https://github.com/giswqs/geemap) is an open-source Python package that comes with many helpful features that help you use Earth Engine effectively in Python. \n",
        "\n",
        "It comes with a function that can help you translate your javascript earth engine code to Python automatically.\n",
        "\n",
        "Google Colab doesn't come pre-installed with the package, so we install it via pip."
      ]
    },
    {
      "cell_type": "code",
      "execution_count": null,
      "metadata": {
        "id": "nlQ8X57t2iMW"
      },
      "outputs": [],
      "source": [
        "try:\n",
        "    import geemap\n",
        "except ModuleNotFoundError:\n",
        "    if 'google.colab' in str(get_ipython()):\n",
        "        print('geemap not found, installing via pip in Google Colab...')\n",
        "        !pip install geemap --quiet\n",
        "        import geemap\n",
        "    else:\n",
        "        print('geemap not found, please install via conda in your environment')"
      ]
    },
    {
      "cell_type": "markdown",
      "metadata": {
        "id": "m9tlLuD3xoaD"
      },
      "source": [
        "The automatic conversion of code is done by calling the `geemap.js_snippet_to_py()` function. We first create a string with the javascript code."
      ]
    },
    {
      "cell_type": "code",
      "execution_count": null,
      "metadata": {
        "id": "nxPPLtLI2iMa"
      },
      "outputs": [],
      "source": [
        "javascript_code = \"\"\"\n",
        "var geometry = ee.Geometry.Point([107.61303468448624, 12.130969369851766]);\n",
        "Map.centerObject(geometry, 12)\n",
        "var s2 = ee.ImageCollection(\"COPERNICUS/S2\")\n",
        "var rgbVis = {\n",
        "  min: 0.0,\n",
        "  max: 3000,\n",
        "  bands: ['B4', 'B3', 'B2'],\n",
        "};\n",
        "\n",
        "// Write a function for Cloud masking\n",
        "function maskS2clouds(image) {\n",
        "  var qa = image.select('QA60')\n",
        "  var cloudBitMask = 1 << 10;\n",
        "  var cirrusBitMask = 1 << 11;\n",
        "  var mask = qa.bitwiseAnd(cloudBitMask).eq(0).and(\n",
        "             qa.bitwiseAnd(cirrusBitMask).eq(0))\n",
        "  return image.updateMask(mask)\n",
        "      .select(\"B.*\")\n",
        "      .copyProperties(image, [\"system:time_start\"])\n",
        "}\n",
        " \n",
        "var filtered = s2\n",
        "  .filter(ee.Filter.date('2019-01-01', '2019-12-31'))\n",
        "  .filter(ee.Filter.bounds(geometry))\n",
        "  .map(maskS2clouds)\n",
        "  \n",
        "\n",
        "// Write a function that computes NDVI for an image and adds it as a band\n",
        "function addNDVI(image) {\n",
        "  var ndvi = image.normalizedDifference(['B5', 'B4']).rename('ndvi');\n",
        "  return image.addBands(ndvi);\n",
        "}\n",
        "\n",
        "var withNdvi = filtered.map(addNDVI);\n",
        "\n",
        "var composite = withNdvi.median()\n",
        "palette = [\n",
        "  'FFFFFF', 'CE7E45', 'DF923D', 'F1B555', 'FCD163', '99B718',\n",
        "  '74A901', '66A000', '529400', '3E8601', '207401', '056201',\n",
        "  '004C00', '023B01', '012E01', '011D01', '011301'];\n",
        "\n",
        "ndviVis = {min:0, max:0.5, palette: palette }\n",
        "Map.addLayer(withNdvi.select('ndvi'), ndviVis, 'NDVI Composite')\n",
        "\n",
        "\"\"\""
      ]
    },
    {
      "cell_type": "code",
      "execution_count": null,
      "metadata": {
        "id": "zYsztHh42iMf"
      },
      "outputs": [],
      "source": [
        "lines = geemap.js_snippet_to_py(\n",
        "    javascript_code, add_new_cell=False,\n",
        "    import_ee=True, import_geemap=True, show_map=True)\n",
        "for line in lines:\n",
        "    print(line.rstrip())"
      ]
    },
    {
      "cell_type": "markdown",
      "metadata": {
        "id": "xYf3qBFNxoaF"
      },
      "source": [
        "The automatic conversion works great. Review it and paste it to the cell below."
      ]
    },
    {
      "cell_type": "code",
      "execution_count": null,
      "metadata": {
        "id": "9cmh1exIxoaG"
      },
      "outputs": [],
      "source": [
        "import ee\n",
        "import geemap\n",
        "Map = geemap.Map()\n",
        "\n",
        "geometry = ee.Geometry.Point([107.61303468448624, 12.130969369851766])\n",
        "Map.centerObject(geometry, 12)\n",
        "s2 = ee.ImageCollection(\"COPERNICUS/S2\")\n",
        "rgbVis = {\n",
        "  'min': 0.0,\n",
        "  'max': 3000,\n",
        "  'bands': ['B4', 'B3', 'B2'],\n",
        "}\n",
        "\n",
        "# Write a function for Cloud masking\n",
        "def maskS2clouds(image):\n",
        "  qa = image.select('QA60')\n",
        "  cloudBitMask = 1 << 10\n",
        "  cirrusBitMask = 1 << 11\n",
        "  mask = qa.bitwiseAnd(cloudBitMask).eq(0).And(\n",
        "             qa.bitwiseAnd(cirrusBitMask).eq(0))\n",
        "  return image.updateMask(mask) \\\n",
        "      .select(\"B.*\") \\\n",
        "      .copyProperties(image, [\"system:time_start\"])\n",
        "\n",
        "filtered = s2 \\\n",
        "  .filter(ee.Filter.date('2019-01-01', '2019-12-31')) \\\n",
        "  .filter(ee.Filter.bounds(geometry)) \\\n",
        "  .map(maskS2clouds)\n",
        "\n",
        "# Write a function that computes NDVI for an image and adds it as a band\n",
        "def addNDVI(image):\n",
        "  ndvi = image.normalizedDifference(['B5', 'B4']).rename('ndvi')\n",
        "  return image.addBands(ndvi)\n",
        "\n",
        "withNdvi = filtered.map(addNDVI)\n",
        "\n",
        "composite = withNdvi.median()\n",
        "palette = [\n",
        "  'FFFFFF', 'CE7E45', 'DF923D', 'F1B555', 'FCD163', '99B718',\n",
        "  '74A901', '66A000', '529400', '3E8601', '207401', '056201',\n",
        "  '004C00', '023B01', '012E01', '011D01', '011301']\n",
        "\n",
        "ndviVis = {'min':0, 'max':0.5, 'palette': palette }\n",
        "Map.addLayer(withNdvi.select('ndvi'), ndviVis, 'NDVI Composite')\n",
        "Map"
      ]
    },
    {
      "cell_type": "markdown",
      "metadata": {
        "id": "6honJg1exoaG"
      },
      "source": [
        "### Exercise\n",
        "\n",
        "Take the Javascript code snippet below and use `geemap` to automatically convert it to Python.\n",
        "\n",
        "---\n",
        "\n",
        "```\n",
        "var admin2 = ee.FeatureCollection(\"FAO/GAUL_SIMPLIFIED_500m/2015/level2\");\n",
        "\n",
        "var karnataka = admin2.filter(ee.Filter.eq('ADM1_NAME', 'Karnataka'))\n",
        "\n",
        "var visParams = {color: 'red'}\n",
        "Map.centerObject(karnataka)\n",
        "Map.addLayer(karnataka, visParams, 'Karnataka Districts')\n",
        "```\n",
        "---"
      ]
    }
  ],
  "metadata": {
    "colab": {
      "name": "01_syntax.ipynb",
      "provenance": []
    },
    "kernelspec": {
      "display_name": "Python 3 (ipykernel)",
      "language": "python",
      "name": "python3"
    },
    "language_info": {
      "codemirror_mode": {
        "name": "ipython",
        "version": 3
      },
      "file_extension": ".py",
      "mimetype": "text/x-python",
      "name": "python",
      "nbconvert_exporter": "python",
      "pygments_lexer": "ipython3",
      "version": "3.8.13"
    }
  },
  "nbformat": 4,
  "nbformat_minor": 0
}