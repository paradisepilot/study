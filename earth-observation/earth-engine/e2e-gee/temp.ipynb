{
  "cells": [
    {
      "cell_type": "markdown",
      "metadata": {
        "id": "view-in-github",
        "colab_type": "text"
      },
      "source": [
        "<a href=\"https://colab.research.google.com/github/paradisepilot/study/blob/master/earth-observation/earth-engine/e2e-gee/e2e_gee_06_03.ipynb\" target=\"_parent\"><img src=\"https://colab.research.google.com/assets/colab-badge.svg\" alt=\"Open In Colab\"/></a>"
      ]
    },
    {
      "cell_type": "markdown",
      "metadata": {
        "id": "tup7PJUodMMI"
      },
      "source": [
        "One of the most commonly asked questions by Earth Engine users is - *How do I download all images in a collection*? The Earth Engine Python API comes with a `ee.batch` module that allows you to launch batch exports and manage tasks. The recommended way to do batch exports like this is to use the Python API's `ee.batch.Export` functions and use a Python for-loop to iterate and export each image. The `ee.batch` module also gives you ability to control *Tasks* - allowing you to automate exports."
      ]
    },
    {
      "cell_type": "code",
      "execution_count": 1,
      "metadata": {
        "id": "JuN5rEoyjmjK"
      },
      "outputs": [],
      "source": [
        "import ee"
      ]
    },
    {
      "cell_type": "code",
      "execution_count": 2,
      "metadata": {
        "id": "Sz-01eMjg72f",
        "outputId": "22616251-ae2c-470f-cc20-51ee5ff17d4d",
        "colab": {
          "base_uri": "https://localhost:8080/"
        }
      },
      "outputs": [
        {
          "output_type": "stream",
          "name": "stdout",
          "text": [
            "To authorize access needed by Earth Engine, open the following URL in a web browser and follow the instructions. If the web browser does not start automatically, please manually browse the URL below.\n",
            "\n",
            "    https://code.earthengine.google.com/client-auth?scopes=https%3A//www.googleapis.com/auth/earthengine%20https%3A//www.googleapis.com/auth/devstorage.full_control&request_id=4HunUVzl4iTChcTvNe6KS3yJYoys9HwJZCcMSST0P_w&tc=wr_3kKr46eMx8zni9EfSuUnCegT6wGtYaM5ecLyzNho&cc=_pvqQn5rtg2iNAgtNILsVklduq1WxxkIhQaYknrtsZQ\n",
            "\n",
            "The authorization workflow will generate a code, which you should paste in the box below.\n",
            "Enter verification code: 4/1AdQt8qhv8HD4VoWgeRl4WNv-yKKZg1g8DF3mypzFIoo_7jPF-n6508W15VA\n",
            "\n",
            "Successfully saved authorization token.\n"
          ]
        }
      ],
      "source": [
        "ee.Authenticate()"
      ]
    },
    {
      "cell_type": "code",
      "execution_count": 3,
      "metadata": {
        "id": "UPsm1_Qxg72j"
      },
      "outputs": [],
      "source": [
        "ee.Initialize()"
      ]
    },
    {
      "cell_type": "markdown",
      "metadata": {
        "id": "mW0ljMgeg72n"
      },
      "source": [
        "#### Create a Collection"
      ]
    },
    {
      "cell_type": "code",
      "execution_count": 4,
      "metadata": {
        "id": "S60c2-FOjx0h"
      },
      "outputs": [],
      "source": [
        "geometry = ee.Geometry.Point([107.61303468448624, 12.130969369851766])\n",
        "s2 = ee.ImageCollection(\"COPERNICUS/S2\")\n",
        "rgbVis = {\n",
        "  'min': 0.0,\n",
        "  'max': 3000,\n",
        "  'bands': ['B4', 'B3', 'B2'],\n",
        "}\n",
        "\n",
        "# Write a function for Cloud masking\n",
        "def maskS2clouds(image):\n",
        "  qa = image.select('QA60')\n",
        "  cloudBitMask = 1 << 10\n",
        "  cirrusBitMask = 1 << 11\n",
        "  mask = qa.bitwiseAnd(cloudBitMask).eq(0).And(\n",
        "             qa.bitwiseAnd(cirrusBitMask).eq(0))\n",
        "  return image.updateMask(mask) \\\n",
        "      .select(\"B.*\") \\\n",
        "      .copyProperties(image, [\"system:time_start\"])\n",
        "\n",
        "filtered = s2 \\\n",
        "  .filter(ee.Filter.date('2019-01-01', '2020-01-01')) \\\n",
        "  .filter(ee.Filter.lt('CLOUDY_PIXEL_PERCENTAGE', 30)) \\\n",
        "  .filter(ee.Filter.bounds(geometry)) \\\n",
        "  .map(maskS2clouds)\n",
        "\n",
        "# Write a function that computes NDVI for an image and adds it as a band\n",
        "def addNDVI(image):\n",
        "  ndvi = image.normalizedDifference(['B5', 'B4']).rename('ndvi')\n",
        "  return image.addBands(ndvi)\n",
        "\n",
        "withNdvi = filtered.map(addNDVI)"
      ]
    },
    {
      "cell_type": "markdown",
      "metadata": {
        "id": "s-zNDMS9g72r"
      },
      "source": [
        "#### Export All Images\n",
        "\n",
        "Exports are done via the ``ee.batch`` module. A key difference between javascript and Python version is that the `region` parameter needs to be supplied with actual geometry coordinates."
      ]
    },
    {
      "cell_type": "code",
      "execution_count": 9,
      "metadata": {
        "id": "STvfd9ABg72s",
        "outputId": "5eff8e7e-88c2-4a55-b8a8-c87dffad8a37",
        "colab": {
          "base_uri": "https://localhost:8080/"
        }
      },
      "outputs": [
        {
          "output_type": "stream",
          "name": "stdout",
          "text": [
            "0 :  20190113T031059_20190113T031703_T48PYU\n",
            "1 :  20190128T031001_20190128T031602_T48PYU\n",
            "2 :  20190207T030911_20190207T031859_T48PYU\n",
            "3 :  20190212T030839_20190212T032044_T48PYU\n",
            "4 :  20190217T030801_20190217T032232_T48PYU\n",
            "5 :  20190222T030729_20190222T031329_T48PYU\n",
            "6 :  20190227T030651_20190227T031435_T48PYU\n",
            "7 :  20190304T030619_20190304T032047_T48PYU\n",
            "8 :  20190309T030541_20190309T032019_T48PYU\n",
            "9 :  20190319T030541_20190319T032255_T48PYU\n",
            "10 :  20190324T030539_20190324T031715_T48PYU\n",
            "11 :  20190403T030549_20190403T032022_T48PYU\n",
            "12 :  20190423T030549_20190423T031830_T48PYU\n",
            "13 :  20190503T030549_20190503T032027_T48PYU\n",
            "14 :  20190513T030549_20190513T032056_T48PYU\n",
            "15 :  20190518T030551_20190518T031147_T48PYU\n",
            "16 :  20190602T030549_20190602T032027_T48PYU\n",
            "17 :  20190712T030549_20190712T032057_T48PYU\n",
            "18 :  20190925T030541_20190925T032110_T48PYU\n",
            "19 :  20190930T030539_20190930T031345_T48PYU\n",
            "20 :  20191005T030601_20191005T030740_T48PYU\n",
            "21 :  20191015T030701_20191015T030849_T48PYU\n",
            "22 :  20191025T030811_20191025T032242_T48PYU\n",
            "23 :  20191119T031019_20191119T031219_T48PYU\n",
            "24 :  20191124T031041_20191124T032030_T48PYU\n",
            "25 :  20191129T031049_20191129T032017_T48PYU\n",
            "26 :  20191209T031119_20191209T031716_T48PYU\n",
            "27 :  20191214T031121_20191214T031725_T48PYU\n",
            "28 :  20191219T031129_20191219T032106_T48PYU\n",
            "29 :  20191224T031131_20191224T032211_T48PYU\n",
            "30 :  20191229T031129_20191229T032104_T48PYU\n"
          ]
        }
      ],
      "source": [
        "image_ids = withNdvi.aggregate_array('system:index').getInfo()\n",
        "for i in range(0,len(image_ids)):\n",
        "  print(i,\": \", image_ids[i])"
      ]
    },
    {
      "cell_type": "code",
      "execution_count": 6,
      "metadata": {
        "id": "CoXn1_hgoj81",
        "outputId": "3c520068-1431-4180-b294-78fc7a3ac14f",
        "colab": {
          "base_uri": "https://localhost:8080/"
        }
      },
      "outputs": [
        {
          "output_type": "stream",
          "name": "stdout",
          "text": [
            "Started Task:  1\n",
            "Started Task:  2\n",
            "Started Task:  3\n",
            "Started Task:  4\n",
            "Started Task:  5\n",
            "Started Task:  6\n",
            "Started Task:  7\n",
            "Started Task:  8\n",
            "Started Task:  9\n",
            "Started Task:  10\n",
            "Started Task:  11\n",
            "Started Task:  12\n",
            "Started Task:  13\n",
            "Started Task:  14\n",
            "Started Task:  15\n",
            "Started Task:  16\n",
            "Started Task:  17\n",
            "Started Task:  18\n",
            "Started Task:  19\n",
            "Started Task:  20\n",
            "Started Task:  21\n",
            "Started Task:  22\n",
            "Started Task:  23\n",
            "Started Task:  24\n",
            "Started Task:  25\n",
            "Started Task:  26\n",
            "Started Task:  27\n",
            "Started Task:  28\n",
            "Started Task:  29\n",
            "Started Task:  30\n",
            "Started Task:  31\n"
          ]
        }
      ],
      "source": [
        "# Export with 100m resolution for this demo\n",
        "for i, image_id in enumerate(image_ids):\n",
        "  image = ee.Image(withNdvi.filter(ee.Filter.eq('system:index', image_id)).first())\n",
        "  task = ee.batch.Export.image.toDrive(**{\n",
        "    'image': image.select('ndvi'),\n",
        "    'description': 'Image Export {}'.format(i+1),\n",
        "    'fileNamePrefix': image.id().getInfo(),\n",
        "    'folder':'earthengine',\n",
        "    'scale': 100,\n",
        "    'region': image.geometry().bounds().getInfo()['coordinates'],\n",
        "    'maxPixels': 1e10\n",
        "  })\n",
        "  task.start()\n",
        "  print('Started Task: ', i+1)"
      ]
    },
    {
      "cell_type": "markdown",
      "metadata": {
        "id": "J8BtAZftg720"
      },
      "source": [
        "#### Manage Running/Waiting Tasks\n",
        "\n",
        "You can manage tasks as well. Get a list of tasks and get state information on them"
      ]
    },
    {
      "cell_type": "code",
      "execution_count": 7,
      "metadata": {
        "id": "AhNgXPb1XGBX",
        "outputId": "d7f50cf6-7700-4270-986e-6f0cd9c63b53",
        "colab": {
          "base_uri": "https://localhost:8080/"
        }
      },
      "outputs": [
        {
          "output_type": "stream",
          "name": "stdout",
          "text": [
            "XFJNOR75ZRGHDVQEI3P2XFLR READY\n",
            "BVSM65NSAUJGY42NAQNU7CJR READY\n",
            "KW5O6EZACXGTVM4AFNDC54SN READY\n",
            "WFMPWLMCIWQDV44AVCVY2MTG READY\n",
            "Z7VDIKAIIVXCIJDC5WW7KMTV READY\n",
            "ASUEZYJLW2KODG3X6YGRNTAD READY\n",
            "3SVDL6K42EEEMVOMVPVGLLEX READY\n",
            "3Y74Y4ZDMNW5LMEWFQ7V4ULT READY\n",
            "B3JC5XB7GXT4UE3AWDIBTQ4Q READY\n",
            "ABHJTC72Q3DQZVCSSKWCWJ7X READY\n",
            "PG34AIDH3FP6A4VLCN5CXPQL READY\n",
            "X2K55DYUUA2UGPCZCJVMXOPW READY\n",
            "CM2RCRNVZMBX5WIYFYRVTHF5 READY\n",
            "GX6MMR5XL4H2K3OFY3T3OA27 READY\n",
            "GHNQCB5JTYEL3UDHHG7GEV5H READY\n",
            "5WRL5RWKSWTBBDEWGCGKHSPE READY\n",
            "Y4PXA4KIUBCC4RXKNRZP3BS4 READY\n",
            "6SISE74A75DX723MF3KNUY5N READY\n",
            "WWM3WZLBNTRC7QEEIOVRNAHM READY\n",
            "RWEWZOOLZ2OBTJPI5ENIRQHB READY\n",
            "TPVLWBQ3EWTYNYJ6IR5DQP55 RUNNING\n",
            "TMTPBAXHKIOAGILA4SCFKHOV RUNNING\n",
            "2IDKZJGKD4ZHSB6OH6ISDMJG RUNNING\n",
            "5JZNETPCYG5S4GCVI4RZLILW RUNNING\n",
            "KYWYGDMEHXJOBTSXRFYSRLV4 COMPLETED\n",
            "3VDPGAVHXKJPRNUXUN3ZL3CH COMPLETED\n",
            "5MZAR2VVALKTFMP46OOJWL4N COMPLETED\n",
            "YD4VHQ4Y666JIWTD5MK4NOEA COMPLETED\n",
            "J52B5URWLDT5LXYVNTZJNY6I COMPLETED\n",
            "QRKMKAVOHFATQ2J5N6NHKZFO COMPLETED\n",
            "OGIMJ2FKBSINIHPCOK4LV7BK COMPLETED\n",
            "2W6PCJUX3VQBRUOZ3S5QXRQU COMPLETED\n"
          ]
        }
      ],
      "source": [
        "tasks = ee.batch.Task.list()\n",
        "for task in tasks:\n",
        "  task_id = task.status()['id']\n",
        "  task_state = task.status()['state']\n",
        "  print(task_id, task_state)"
      ]
    },
    {
      "cell_type": "markdown",
      "metadata": {
        "id": "Y4kf_z5Wg723"
      },
      "source": [
        "You can cancel tasks as well"
      ]
    },
    {
      "cell_type": "code",
      "execution_count": null,
      "metadata": {
        "id": "-u2_GpPog724"
      },
      "outputs": [],
      "source": [
        "tasks = ee.batch.Task.list()\n",
        "for task in tasks:\n",
        "    task_id = task.status()['id']\n",
        "    task_state = task.status()['state']\n",
        "    if task_state == 'RUNNING' or task_state == 'READY':\n",
        "        task.cancel()\n",
        "        print('Task {} canceled'.format(task_id))\n",
        "    else:\n",
        "        print('Task {} state is {}'.format(task_id, task_state))"
      ]
    },
    {
      "cell_type": "markdown",
      "metadata": {
        "id": "_NowB1q5dMMS"
      },
      "source": [
        "### Exercise\n",
        "\n",
        "The code below uses the TerraClimate data and creates an ImageCollection with 12 monthly images of maximum temperature. It also extract the geometry for Australia from the LSIB collection. Add the code to start an export task for each image in the collection for australia.\n",
        "\n",
        "- **Hint1**: TerraClimate images have a scale of 4638.3m\n",
        "- **Hint2**: You need to export the image contained in the clippedImage variable"
      ]
    },
    {
      "cell_type": "code",
      "execution_count": 10,
      "metadata": {
        "id": "SPvFVY8pdMMT",
        "outputId": "23608204-7bee-4b67-8a90-797fb2e006e6",
        "colab": {
          "base_uri": "https://localhost:8080/"
        }
      },
      "outputs": [
        {
          "output_type": "stream",
          "name": "stdout",
          "text": [
            "Total images:  12\n",
            "0 :  202001\n",
            "1 :  202002\n",
            "2 :  202003\n",
            "3 :  202004\n",
            "4 :  202005\n",
            "5 :  202006\n",
            "6 :  202007\n",
            "7 :  202008\n",
            "8 :  202009\n",
            "9 :  202010\n",
            "10 :  202011\n",
            "11 :  202012\n"
          ]
        }
      ],
      "source": [
        "import ee\n",
        "\n",
        "lsib = ee.FeatureCollection('USDOS/LSIB_SIMPLE/2017')\n",
        "australia = lsib.filter(ee.Filter.eq('country_na', 'Australia'))\n",
        "geometry = australia.geometry()\n",
        "\n",
        "terraclimate = ee.ImageCollection('IDAHO_EPSCOR/TERRACLIMATE')\n",
        "tmax = terraclimate.select('tmmx')\n",
        "\n",
        "def scale(image):\n",
        "  return image.multiply(0.1) \\\n",
        "    .copyProperties(image,['system:time_start'])\n",
        "\n",
        "tmaxScaled = tmax.map(scale)\n",
        "\n",
        "filtered = tmaxScaled \\\n",
        "  .filter(ee.Filter.date('2020-01-01', '2021-01-01')) \\\n",
        "  .filter(ee.Filter.bounds(geometry))\n",
        "\n",
        "image_ids = filtered.aggregate_array('system:index').getInfo()\n",
        "print('Total images: ', len(image_ids))\n",
        "for i, image_id in enumerate(image_ids):\n",
        "  print(i,\": \",image_id)"
      ]
    },
    {
      "cell_type": "markdown",
      "metadata": {
        "id": "kEWgJNNmdMMU"
      },
      "source": [
        "Replace the comments with your code."
      ]
    },
    {
      "cell_type": "code",
      "execution_count": 26,
      "metadata": {
        "id": "GR4-2koBdMMU",
        "outputId": "d38fbc06-f7b1-4133-df7b-52358d6ddcf8",
        "colab": {
          "base_uri": "https://localhost:8080/"
        }
      },
      "outputs": [
        {
          "output_type": "stream",
          "name": "stdout",
          "text": [
            "Started Task:  1\n",
            "Started Task:  2\n",
            "Started Task:  3\n",
            "Started Task:  4\n",
            "Started Task:  5\n",
            "Started Task:  6\n",
            "Started Task:  7\n",
            "Started Task:  8\n",
            "Started Task:  9\n",
            "Started Task:  10\n",
            "Started Task:  11\n",
            "Started Task:  12\n"
          ]
        }
      ],
      "source": [
        "for i, image_id in enumerate(image_ids):\n",
        "\n",
        "    exportImage = ee.Image(filtered.filter(ee.Filter.eq('system:index', image_id)).first())\n",
        "  \n",
        "    # Clip the image to the region geometry\n",
        "    clippedImage = exportImage.clip(geometry)\n",
        "    \n",
        "    ## Create the export task using ee.batch.Export.image.toDrive()\n",
        "    task = ee.batch.Export.image.toDrive(**{\n",
        "       'image': clippedImage.select('tmmx'),\n",
        "       'description': 'Image Export {}'.format(i+1),\n",
        "        'fileNamePrefix': clippedImage.id().getInfo(),\n",
        "        'folder':'earthengine',\n",
        "        'scale': 1000,\n",
        "        'region': clippedImage.geometry().bounds().getInfo()['coordinates'],\n",
        "        'maxPixels': 1e10\n",
        "    })\n",
        "\n",
        "    ## Start the task\n",
        "    task.start()\n",
        "    print('Started Task: ', i+1)\n"
      ]
    },
    {
      "cell_type": "code",
      "source": [
        "tasks = ee.batch.Task.list()\n",
        "for task in tasks:\n",
        "  task_id = task.status()['id']\n",
        "  task_state = task.status()['state']\n",
        "  print(task_id, task_state)"
      ],
      "metadata": {
        "id": "-eZPFmLmk44m",
        "outputId": "33632a17-1e22-448c-9f4d-1e23b7ee288d",
        "colab": {
          "base_uri": "https://localhost:8080/"
        }
      },
      "execution_count": 30,
      "outputs": [
        {
          "output_type": "stream",
          "name": "stdout",
          "text": [
            "NTLWG2EEAZQDG6G3NKP23TNX READY\n",
            "QW5RCVW3JHKSEY5ZY3EXFRSD READY\n",
            "CGLGOENNDPU2UHRFKC7NR2VH READY\n",
            "ODTIXUQI4I5JCE7XFJHZAACZ READY\n",
            "CDEVE6LDAEBYMPUVUHWWYB75 READY\n",
            "AHV32DW5VJBIDX2II6MQQB6X READY\n",
            "3LKT6KHMMYDVKMTB3ZNQB3MP READY\n",
            "NDQ25P3I3VUYELHPROHIDMGK READY\n",
            "7QTZNAZ46GHI62Q23AAOTRKJ READY\n",
            "I4VTMI4CJGZISKPD3SDR67QQ READY\n",
            "553LLZKDDGU4UNGZCNTV5KAG READY\n",
            "ZWQIM5EYLAOTMT6VZQGQNY6B READY\n",
            "SN46GMOUDXOESZGMHUUSZD2X CANCELLED\n",
            "4Y32LTQ24NB7BYVXO5ZDGFPH CANCELLED\n",
            "Q6IFW3FHGNTE2QAJHN7TZ3FE CANCELLED\n",
            "7I36GYXQSFFOVSMKOK33HSRW CANCELLED\n",
            "S2Z5247QK6QEG5BMO5JYS7BR CANCELLED\n",
            "XEBYIFSHRN6DV5SVK6DR4YP5 CANCELLED\n",
            "H5ZLL6563G22QBDLSDPGRK2F CANCELLED\n",
            "3KO2CQCIYXUHJFXW56R5HAE3 CANCELLED\n",
            "JPZLOCNATBQQO2GQXCD5IFW6 CANCEL_REQUESTED\n",
            "DGNVNVAPBMPZ4UPZEMZKG2AF CANCEL_REQUESTED\n",
            "LAVLGPWWMFGZAFZZOME7GZFC CANCEL_REQUESTED\n",
            "7FJRPYMQDGMR7J3TLGIAGQLK CANCEL_REQUESTED\n",
            "XFJNOR75ZRGHDVQEI3P2XFLR COMPLETED\n",
            "BVSM65NSAUJGY42NAQNU7CJR COMPLETED\n",
            "KW5O6EZACXGTVM4AFNDC54SN COMPLETED\n",
            "WFMPWLMCIWQDV44AVCVY2MTG COMPLETED\n",
            "Z7VDIKAIIVXCIJDC5WW7KMTV COMPLETED\n",
            "ASUEZYJLW2KODG3X6YGRNTAD COMPLETED\n",
            "3SVDL6K42EEEMVOMVPVGLLEX COMPLETED\n",
            "3Y74Y4ZDMNW5LMEWFQ7V4ULT COMPLETED\n",
            "B3JC5XB7GXT4UE3AWDIBTQ4Q COMPLETED\n",
            "ABHJTC72Q3DQZVCSSKWCWJ7X COMPLETED\n",
            "PG34AIDH3FP6A4VLCN5CXPQL COMPLETED\n",
            "X2K55DYUUA2UGPCZCJVMXOPW COMPLETED\n",
            "CM2RCRNVZMBX5WIYFYRVTHF5 COMPLETED\n",
            "GX6MMR5XL4H2K3OFY3T3OA27 COMPLETED\n",
            "GHNQCB5JTYEL3UDHHG7GEV5H COMPLETED\n",
            "5WRL5RWKSWTBBDEWGCGKHSPE COMPLETED\n",
            "Y4PXA4KIUBCC4RXKNRZP3BS4 COMPLETED\n",
            "6SISE74A75DX723MF3KNUY5N COMPLETED\n",
            "WWM3WZLBNTRC7QEEIOVRNAHM COMPLETED\n",
            "RWEWZOOLZ2OBTJPI5ENIRQHB COMPLETED\n",
            "TPVLWBQ3EWTYNYJ6IR5DQP55 COMPLETED\n",
            "TMTPBAXHKIOAGILA4SCFKHOV COMPLETED\n",
            "2IDKZJGKD4ZHSB6OH6ISDMJG COMPLETED\n",
            "5JZNETPCYG5S4GCVI4RZLILW COMPLETED\n",
            "KYWYGDMEHXJOBTSXRFYSRLV4 COMPLETED\n",
            "3VDPGAVHXKJPRNUXUN3ZL3CH COMPLETED\n",
            "5MZAR2VVALKTFMP46OOJWL4N COMPLETED\n",
            "YD4VHQ4Y666JIWTD5MK4NOEA COMPLETED\n",
            "J52B5URWLDT5LXYVNTZJNY6I COMPLETED\n",
            "QRKMKAVOHFATQ2J5N6NHKZFO COMPLETED\n",
            "OGIMJ2FKBSINIHPCOK4LV7BK COMPLETED\n",
            "2W6PCJUX3VQBRUOZ3S5QXRQU COMPLETED\n"
          ]
        }
      ]
    },
    {
      "cell_type": "code",
      "source": [
        "tasks = ee.batch.Task.list()\n",
        "for task in tasks:\n",
        "    task_id = task.status()['id']\n",
        "    task_state = task.status()['state']\n",
        "    if task_state == 'RUNNING' or task_state == 'READY':\n",
        "        task.cancel()\n",
        "        print('Task {} canceled'.format(task_id))\n",
        "    else:\n",
        "        print('Task {} state is {}'.format(task_id, task_state))"
      ],
      "metadata": {
        "id": "Llqzd2b3o5q5",
        "outputId": "f1b07b9b-e66a-42af-bb39-bd5698225b47",
        "colab": {
          "base_uri": "https://localhost:8080/"
        }
      },
      "execution_count": 22,
      "outputs": [
        {
          "output_type": "stream",
          "name": "stdout",
          "text": [
            "Task SN46GMOUDXOESZGMHUUSZD2X canceled\n",
            "Task 4Y32LTQ24NB7BYVXO5ZDGFPH canceled\n",
            "Task Q6IFW3FHGNTE2QAJHN7TZ3FE canceled\n",
            "Task 7I36GYXQSFFOVSMKOK33HSRW canceled\n",
            "Task S2Z5247QK6QEG5BMO5JYS7BR canceled\n",
            "Task XEBYIFSHRN6DV5SVK6DR4YP5 canceled\n",
            "Task H5ZLL6563G22QBDLSDPGRK2F canceled\n",
            "Task 3KO2CQCIYXUHJFXW56R5HAE3 canceled\n",
            "Task JPZLOCNATBQQO2GQXCD5IFW6 canceled\n",
            "Task DGNVNVAPBMPZ4UPZEMZKG2AF canceled\n",
            "Task LAVLGPWWMFGZAFZZOME7GZFC canceled\n",
            "Task 7FJRPYMQDGMR7J3TLGIAGQLK canceled\n",
            "Task XFJNOR75ZRGHDVQEI3P2XFLR state is COMPLETED\n",
            "Task BVSM65NSAUJGY42NAQNU7CJR state is COMPLETED\n",
            "Task KW5O6EZACXGTVM4AFNDC54SN state is COMPLETED\n",
            "Task WFMPWLMCIWQDV44AVCVY2MTG state is COMPLETED\n",
            "Task Z7VDIKAIIVXCIJDC5WW7KMTV state is COMPLETED\n",
            "Task ASUEZYJLW2KODG3X6YGRNTAD state is COMPLETED\n",
            "Task 3SVDL6K42EEEMVOMVPVGLLEX state is COMPLETED\n",
            "Task 3Y74Y4ZDMNW5LMEWFQ7V4ULT state is COMPLETED\n",
            "Task B3JC5XB7GXT4UE3AWDIBTQ4Q state is COMPLETED\n",
            "Task ABHJTC72Q3DQZVCSSKWCWJ7X state is COMPLETED\n",
            "Task PG34AIDH3FP6A4VLCN5CXPQL state is COMPLETED\n",
            "Task X2K55DYUUA2UGPCZCJVMXOPW state is COMPLETED\n",
            "Task CM2RCRNVZMBX5WIYFYRVTHF5 state is COMPLETED\n",
            "Task GX6MMR5XL4H2K3OFY3T3OA27 state is COMPLETED\n",
            "Task GHNQCB5JTYEL3UDHHG7GEV5H state is COMPLETED\n",
            "Task 5WRL5RWKSWTBBDEWGCGKHSPE state is COMPLETED\n",
            "Task Y4PXA4KIUBCC4RXKNRZP3BS4 state is COMPLETED\n",
            "Task 6SISE74A75DX723MF3KNUY5N state is COMPLETED\n",
            "Task WWM3WZLBNTRC7QEEIOVRNAHM state is COMPLETED\n",
            "Task RWEWZOOLZ2OBTJPI5ENIRQHB state is COMPLETED\n",
            "Task TPVLWBQ3EWTYNYJ6IR5DQP55 state is COMPLETED\n",
            "Task TMTPBAXHKIOAGILA4SCFKHOV state is COMPLETED\n",
            "Task 2IDKZJGKD4ZHSB6OH6ISDMJG state is COMPLETED\n",
            "Task 5JZNETPCYG5S4GCVI4RZLILW state is COMPLETED\n",
            "Task KYWYGDMEHXJOBTSXRFYSRLV4 state is COMPLETED\n",
            "Task 3VDPGAVHXKJPRNUXUN3ZL3CH state is COMPLETED\n",
            "Task 5MZAR2VVALKTFMP46OOJWL4N state is COMPLETED\n",
            "Task YD4VHQ4Y666JIWTD5MK4NOEA state is COMPLETED\n",
            "Task J52B5URWLDT5LXYVNTZJNY6I state is COMPLETED\n",
            "Task QRKMKAVOHFATQ2J5N6NHKZFO state is COMPLETED\n",
            "Task OGIMJ2FKBSINIHPCOK4LV7BK state is COMPLETED\n",
            "Task 2W6PCJUX3VQBRUOZ3S5QXRQU state is COMPLETED\n"
          ]
        }
      ]
    }
  ],
  "metadata": {
    "colab": {
      "collapsed_sections": [],
      "name": "02_managing_tasks.ipynb",
      "provenance": [],
      "toc_visible": true,
      "include_colab_link": true
    },
    "kernelspec": {
      "display_name": "Python 3 (ipykernel)",
      "language": "python",
      "name": "python3"
    },
    "language_info": {
      "codemirror_mode": {
        "name": "ipython",
        "version": 3
      },
      "file_extension": ".py",
      "mimetype": "text/x-python",
      "name": "python",
      "nbconvert_exporter": "python",
      "pygments_lexer": "ipython3",
      "version": "3.8.13"
    }
  },
  "nbformat": 4,
  "nbformat_minor": 0
}