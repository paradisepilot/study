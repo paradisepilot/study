{
  "nbformat": 4,
  "nbformat_minor": 0,
  "metadata": {
    "colab": {
      "name": "e2e-gee-06-01.ipynb",
      "provenance": [],
      "authorship_tag": "ABX9TyOkoMEQ5tMFWMZZj9MFlhx1",
      "include_colab_link": true
    },
    "kernelspec": {
      "name": "python3",
      "display_name": "Python 3"
    },
    "language_info": {
      "name": "python"
    }
  },
  "cells": [
    {
      "cell_type": "markdown",
      "metadata": {
        "id": "view-in-github",
        "colab_type": "text"
      },
      "source": [
        "<a href=\"https://colab.research.google.com/github/paradisepilot/study/blob/master/earth-observation/earth-engine/e2e-gee/e2e_gee_06_01.ipynb\" target=\"_parent\"><img src=\"https://colab.research.google.com/assets/colab-badge.svg\" alt=\"Open In Colab\"/></a>"
      ]
    },
    {
      "cell_type": "code",
      "execution_count": 1,
      "metadata": {
        "id": "DZ_V7tcFAtWp"
      },
      "outputs": [],
      "source": [
        "import ee"
      ]
    },
    {
      "cell_type": "code",
      "source": [
        "ee.Authenticate()"
      ],
      "metadata": {
        "colab": {
          "base_uri": "https://localhost:8080/"
        },
        "id": "h-StaBluEBL7",
        "outputId": "4b1dfba7-b4c6-4dd0-faaa-5d0f841eeb8c"
      },
      "execution_count": 2,
      "outputs": [
        {
          "output_type": "stream",
          "name": "stdout",
          "text": [
            "To authorize access needed by Earth Engine, open the following URL in a web browser and follow the instructions. If the web browser does not start automatically, please manually browse the URL below.\n",
            "\n",
            "    https://code.earthengine.google.com/client-auth?scopes=https%3A//www.googleapis.com/auth/earthengine%20https%3A//www.googleapis.com/auth/devstorage.full_control&request_id=EW4IttZ-1Y6me6ozV90q4Euy2ottSPHqOCtx_T6aNEA&tc=tcrCuJca73OGZK4tzG-QOSlcM7sH1XLfP5nezrX0p_s&cc=TldI33dy1jdhdnzQSjrrupm41MCTcRKPz5kkyK6QWJ8\n",
            "\n",
            "The authorization workflow will generate a code, which you should paste in the box below.\n",
            "Enter verification code: 4/1AdQt8qjcox_OdQLIfwDwbDiN7ds4RsbhacFMkWzCUUIEWVj20t9mp_A6IGM\n",
            "\n",
            "Successfully saved authorization token.\n"
          ]
        }
      ]
    },
    {
      "cell_type": "code",
      "source": [
        "ee.Initialize()\n"
      ],
      "metadata": {
        "id": "40704Ud3GBgL"
      },
      "execution_count": 3,
      "outputs": []
    },
    {
      "cell_type": "code",
      "source": [
        "city = 'San Fransico'\n",
        "state = 'California'\n",
        "print(city, state)\n",
        "\n",
        "population = 881549\n",
        "print(population)"
      ],
      "metadata": {
        "colab": {
          "base_uri": "https://localhost:8080/"
        },
        "id": "ZchvZEDlGFp_",
        "outputId": "4237ccc1-92bd-429c-b735-b6ebfb24b7a8"
      },
      "execution_count": 4,
      "outputs": [
        {
          "output_type": "stream",
          "name": "stdout",
          "text": [
            "San Fransico California\n",
            "881549\n"
          ]
        }
      ]
    },
    {
      "cell_type": "code",
      "source": [
        "lon_centre = -75.695000\n",
        "lat_centre =  45.424722 \n",
        "\n",
        "lon_width  = 0.50\n",
        "lat_width  = 0.30\n",
        "\n",
        "ottawaGeometry = ee.Geometry.Polygon([[\n",
        "  [lon_centre - lon_width/2, lat_centre - lat_width/2],\n",
        "  [lon_centre - lon_width/2, lat_centre + lat_width/2],\n",
        "  [lon_centre + lon_width/2, lat_centre + lat_width/2],\n",
        "  [lon_centre + lon_width/2, lat_centre - lat_width/2],\n",
        "  [lon_centre - lon_width/2, lat_centre - lat_width/2]\n",
        "]])\n",
        "\n",
        "s2 = ee.ImageCollection('COPERNICUS/S2')"
      ],
      "metadata": {
        "id": "OePMoGEDHG-A"
      },
      "execution_count": 5,
      "outputs": []
    },
    {
      "cell_type": "code",
      "source": [
        "filtered = s2 \\\n",
        "    .filter(ee.Filter.lt('CLOUDY_PIXEL_PERCENTAGE', 30)) \\\n",
        "    .filter(ee.Filter.date('2022-02-01','2022-03-01')) \\\n",
        "    .filter(ee.Filter.bounds(ottawaGeometry))"
      ],
      "metadata": {
        "id": "yzSd7OJUHmFo"
      },
      "execution_count": 6,
      "outputs": []
    },
    {
      "cell_type": "code",
      "source": [
        "def maskS2clouds(image):\n",
        "  qa = image.select('QA60')\n",
        "  cloudBitMask = 1 << 10\n",
        "  cirrusBitMask = 1 << 11\n",
        "  mask = qa.bitwiseAnd(cloudBitMask).eq(0).And(\n",
        "             qa.bitwiseAnd(cirrusBitMask).eq(0))\n",
        "  return image.updateMask(mask) \\\n",
        "      .select(\"B.*\") \\\n",
        "      .copyProperties(image,[\"system:time_start\"])\n",
        "\n",
        "def addNDVI(image):\n",
        "  ndvi = image.normalizedDifference(['B8','B4']).rename('ndvi')\n",
        "  return image.addBands(ndvi)\n",
        "\n",
        "withNdvi = filtered \\\n",
        "    .map(maskS2clouds) \\\n",
        "    .map(addNDVI)\n"
      ],
      "metadata": {
        "id": "oaWAO_qxHxnD"
      },
      "execution_count": 7,
      "outputs": []
    },
    {
      "cell_type": "code",
      "source": [
        "composite = withNdvi.median()\n",
        "ndvi = composite.select('ndvi')\n",
        "\n",
        "stats = ndvi.reduceRegion(**{\n",
        "  'reducer': ee.Reducer.mean(),\n",
        "  'geometry': ottawaGeometry,\n",
        "  'scale': 10,\n",
        "  'maxPixels': 1e10\n",
        "  })\n",
        "\n",
        "print(stats.get('ndvi').getInfo())\n"
      ],
      "metadata": {
        "colab": {
          "base_uri": "https://localhost:8080/"
        },
        "id": "ekjsIix4IbSq",
        "outputId": "b4dbf19f-b511-43a2-981a-48e3877b7646"
      },
      "execution_count": 8,
      "outputs": [
        {
          "output_type": "stream",
          "name": "stdout",
          "text": [
            "0.02846762328458271\n"
          ]
        }
      ]
    },
    {
      "cell_type": "code",
      "source": [
        "# javascript:\n",
        "# var myList = ee.List.sequence(1, 10);\n",
        "# var newList = myList.map(function(number) {\n",
        "#     return ee.Number(number).pow(2);\n",
        "#     });\n",
        "# print(newList);\n",
        "\n",
        "myList = ee.List.sequence(1, 10)\n",
        "newList = myList.map(lambda number: ee.Number(number).pow(2))\n",
        "print(newList.getInfo())\n"
      ],
      "metadata": {
        "colab": {
          "base_uri": "https://localhost:8080/"
        },
        "id": "zc47Q4ItJaDY",
        "outputId": "6fa66d71-542b-4b80-b2a7-104025388d9f"
      },
      "execution_count": 9,
      "outputs": [
        {
          "output_type": "stream",
          "name": "stdout",
          "text": [
            "[1, 4, 9, 16, 25, 36, 49, 64, 81, 100]\n"
          ]
        }
      ]
    },
    {
      "cell_type": "code",
      "source": [
        "# Exercise\n",
        "geometry = ee.Geometry.Point([77.60412933051538, 12.952912912328241]);\n",
        "\n",
        "s2 = ee.ImageCollection('COPERNICUS/S2');\n",
        "\n",
        "filtered = s2.filter(ee.Filter.lt('CLOUDY_PIXEL_PERCENTAGE', 30)) \\\n",
        "  .filter(ee.Filter.date('2019-01-01','2020-01-01')) \\\n",
        "  .filter(ee.Filter.bounds(geometry));\n",
        "  \n",
        "print(filtered.size().getInfo());"
      ],
      "metadata": {
        "colab": {
          "base_uri": "https://localhost:8080/"
        },
        "id": "WwMFokrOX81a",
        "outputId": "b2efefde-f12f-49aa-e76a-3eff144bbbf7"
      },
      "execution_count": 10,
      "outputs": [
        {
          "output_type": "stream",
          "name": "stdout",
          "text": [
            "30\n"
          ]
        }
      ]
    },
    {
      "cell_type": "code",
      "source": [
        ""
      ],
      "metadata": {
        "id": "WRtgxEVhZ6D6"
      },
      "execution_count": 10,
      "outputs": []
    }
  ]
}