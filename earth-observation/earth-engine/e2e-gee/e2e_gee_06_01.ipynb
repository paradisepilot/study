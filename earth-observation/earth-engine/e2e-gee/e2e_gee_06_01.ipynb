{
  "nbformat": 4,
  "nbformat_minor": 0,
  "metadata": {
    "colab": {
      "name": "e2e-gee-06-01.ipynb",
      "provenance": [],
      "authorship_tag": "ABX9TyOkoMEQ5tMFWMZZj9MFlhx1",
      "include_colab_link": true
    },
    "kernelspec": {
      "name": "python3",
      "display_name": "Python 3"
    },
    "language_info": {
      "name": "python"
    }
  },
  "cells": [
    {
      "cell_type": "markdown",
      "metadata": {
        "id": "view-in-github",
        "colab_type": "text"
      },
      "source": [
        "<a href=\"https://colab.research.google.com/github/paradisepilot/study/blob/master/earth-observation/earth-engine/e2e-gee/e2e_gee_06_01.ipynb\" target=\"_parent\"><img src=\"https://colab.research.google.com/assets/colab-badge.svg\" alt=\"Open In Colab\"/></a>"
      ]
    },
    {
      "cell_type": "code",
      "execution_count": 1,
      "metadata": {
        "id": "DZ_V7tcFAtWp"
      },
      "outputs": [],
      "source": [
        "import ee"
      ]
    },
    {
      "cell_type": "code",
      "source": [
        "ee.Authenticate()"
      ],
      "metadata": {
        "colab": {
          "base_uri": "https://localhost:8080/"
        },
        "id": "h-StaBluEBL7",
        "outputId": "18284af3-c1d8-4b73-8c71-de1244b214f8"
      },
      "execution_count": 2,
      "outputs": [
        {
          "output_type": "stream",
          "name": "stdout",
          "text": [
            "To authorize access needed by Earth Engine, open the following URL in a web browser and follow the instructions. If the web browser does not start automatically, please manually browse the URL below.\n",
            "\n",
            "    https://code.earthengine.google.com/client-auth?scopes=https%3A//www.googleapis.com/auth/earthengine%20https%3A//www.googleapis.com/auth/devstorage.full_control&request_id=T8ZM7oWCWgQXbTi_bWr_6DKZRnPxfBYIF_qJy9O-4Lw&tc=UmvrpVRJnyl4RZnTiLVRUMLh2yhQKqClRS6EjgVK3po&cc=-j2hcHadtJKpaxD923_HkghD9rc04721oHKYcuVh9FY\n",
            "\n",
            "The authorization workflow will generate a code, which you should paste in the box below.\n",
            "Enter verification code: 4/1AdQt8qj3Fsm94r1lkyBggsKiNsoO3DFMFE3v2P4DMif-zv4GZ7nwiwIviUk\n",
            "\n",
            "Successfully saved authorization token.\n"
          ]
        }
      ]
    },
    {
      "cell_type": "code",
      "source": [
        "ee.Initialize()\n"
      ],
      "metadata": {
        "id": "40704Ud3GBgL"
      },
      "execution_count": 3,
      "outputs": []
    },
    {
      "cell_type": "code",
      "source": [
        "city = 'San Fransico'\n",
        "state = 'California'\n",
        "print(city, state)\n",
        "\n",
        "population = 881549\n",
        "print(population)"
      ],
      "metadata": {
        "colab": {
          "base_uri": "https://localhost:8080/"
        },
        "id": "ZchvZEDlGFp_",
        "outputId": "8ae91516-92a6-4e60-afd9-7bc39306f5cd"
      },
      "execution_count": 10,
      "outputs": [
        {
          "output_type": "stream",
          "name": "stdout",
          "text": [
            "San Fransico California\n",
            "881549\n"
          ]
        }
      ]
    },
    {
      "cell_type": "code",
      "source": [
        "lon_centre = -75.695000\n",
        "lat_centre =  45.424722 \n",
        "\n",
        "lon_width  = 0.50\n",
        "lat_width  = 0.30\n",
        "\n",
        "ottawaGeometry = ee.Geometry.Polygon([[\n",
        "  [lon_centre - lon_width/2, lat_centre - lat_width/2],\n",
        "  [lon_centre - lon_width/2, lat_centre + lat_width/2],\n",
        "  [lon_centre + lon_width/2, lat_centre + lat_width/2],\n",
        "  [lon_centre + lon_width/2, lat_centre - lat_width/2],\n",
        "  [lon_centre - lon_width/2, lat_centre - lat_width/2]\n",
        "]])\n",
        "\n",
        "s2 = ee.ImageCollection('COPERNICUS/S2')"
      ],
      "metadata": {
        "id": "OePMoGEDHG-A"
      },
      "execution_count": 11,
      "outputs": []
    },
    {
      "cell_type": "code",
      "source": [
        "filtered = s2 \\\n",
        "    .filter(ee.Filter.lt('CLOUDY_PIXEL_PERCENTAGE', 30)) \\\n",
        "    .filter(ee.Filter.date('2022-02-01','2022-03-01')) \\\n",
        "    .filter(ee.Filter.bounds(ottawaGeometry))"
      ],
      "metadata": {
        "id": "yzSd7OJUHmFo"
      },
      "execution_count": 12,
      "outputs": []
    },
    {
      "cell_type": "code",
      "source": [
        "def maskS2clouds(image):\n",
        "  qa = image.select('QA60')\n",
        "  cloudBitMask = 1 << 10\n",
        "  cirrusBitMask = 1 << 11\n",
        "  mask = qa.bitwiseAnd(cloudBitMask).eq(0).And(\n",
        "             qa.bitwiseAnd(cirrusBitMask).eq(0))\n",
        "  return image.updateMask(mask) \\\n",
        "      .select(\"B.*\") \\\n",
        "      .copyProperties(image,[\"system:time_start\"])\n",
        "\n",
        "def addNDVI(image):\n",
        "  ndvi = image.normalizedDifference(['B8','B4']).rename('ndvi')\n",
        "  return image.addBands(ndvi)\n",
        "\n",
        "withNdvi = filtered \\\n",
        "    .map(maskS2clouds) \\\n",
        "    .map(addNDVI)\n"
      ],
      "metadata": {
        "id": "oaWAO_qxHxnD"
      },
      "execution_count": 13,
      "outputs": []
    },
    {
      "cell_type": "code",
      "source": [
        "composite = withNdvi.median()\n",
        "ndvi = composite.select('ndvi')\n",
        "\n",
        "stats = ndvi.reduceRegion(**{\n",
        "  'reducer': ee.Reducer.mean(),\n",
        "  'geometry': ottawaGeometry,\n",
        "  'scale': 10,\n",
        "  'maxPixels': 1e10\n",
        "  })\n",
        "\n",
        "print(stats.get('ndvi').getInfo())\n"
      ],
      "metadata": {
        "colab": {
          "base_uri": "https://localhost:8080/"
        },
        "id": "ekjsIix4IbSq",
        "outputId": "62451a56-51af-4307-8ab5-e7b416ff1230"
      },
      "execution_count": 14,
      "outputs": [
        {
          "output_type": "stream",
          "name": "stdout",
          "text": [
            "0.028467623284582716\n"
          ]
        }
      ]
    },
    {
      "cell_type": "code",
      "source": [
        "# javascript:\n",
        "# var myList = ee.List.sequence(1, 10);\n",
        "# var newList = myList.map(function(number) {\n",
        "#     return ee.Number(number).pow(2);\n",
        "#     });\n",
        "# print(newList);\n",
        "\n",
        "myList = ee.List.sequence(1, 10)\n",
        "newList = myList.map(lambda number: ee.Number(number).pow(2))\n",
        "print(newList.getInfo())\n"
      ],
      "metadata": {
        "colab": {
          "base_uri": "https://localhost:8080/"
        },
        "id": "zc47Q4ItJaDY",
        "outputId": "86f721d6-8fd5-428d-f906-2d550ca7d72d"
      },
      "execution_count": 15,
      "outputs": [
        {
          "output_type": "stream",
          "name": "stdout",
          "text": [
            "[1, 4, 9, 16, 25, 36, 49, 64, 81, 100]\n"
          ]
        }
      ]
    },
    {
      "cell_type": "code",
      "source": [
        "# Exercise\n",
        "geometry = ee.Geometry.Point([77.60412933051538, 12.952912912328241]);\n",
        "\n",
        "s2 = ee.ImageCollection('COPERNICUS/S2');\n",
        "\n",
        "filtered = s2.filter(ee.Filter.lt('CLOUDY_PIXEL_PERCENTAGE', 30)) \\\n",
        "  .filter(ee.Filter.date('2019-01-01','2020-01-01')) \\\n",
        "  .filter(ee.Filter.bounds(geometry));\n",
        "  \n",
        "print(filtered.size().getInfo());"
      ],
      "metadata": {
        "colab": {
          "base_uri": "https://localhost:8080/"
        },
        "id": "WwMFokrOX81a",
        "outputId": "59e1b716-fb88-4476-b2f5-41fa5c941d1d"
      },
      "execution_count": 21,
      "outputs": [
        {
          "output_type": "stream",
          "name": "stdout",
          "text": [
            "30\n"
          ]
        }
      ]
    },
    {
      "cell_type": "code",
      "source": [
        ""
      ],
      "metadata": {
        "id": "1Au3TlRUX-aA"
      },
      "execution_count": null,
      "outputs": []
    }
  ]
}