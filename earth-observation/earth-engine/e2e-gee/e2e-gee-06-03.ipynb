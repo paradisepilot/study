{
  "cells": [
    {
      "cell_type": "markdown",
      "metadata": {
        "id": "view-in-github",
        "colab_type": "text"
      },
      "source": [
        "<a href=\"https://colab.research.google.com/github/paradisepilot/study/blob/master/earth-observation/earth-engine/e2e-gee/e2e-gee-06-03.ipynb\" target=\"_parent\"><img src=\"https://colab.research.google.com/assets/colab-badge.svg\" alt=\"Open In Colab\"/></a>"
      ]
    },
    {
      "cell_type": "markdown",
      "metadata": {
        "id": "tup7PJUodMMI"
      },
      "source": [
        "One of the most commonly asked questions by Earth Engine users is - *How do I download all images in a collection*? The Earth Engine Python API comes with a `ee.batch` module that allows you to launch batch exports and manage tasks. The recommended way to do batch exports like this is to use the Python API's `ee.batch.Export` functions and use a Python for-loop to iterate and export each image. The `ee.batch` module also gives you ability to control *Tasks* - allowing you to automate exports."
      ]
    },
    {
      "cell_type": "code",
      "execution_count": null,
      "metadata": {
        "id": "JuN5rEoyjmjK"
      },
      "outputs": [],
      "source": [
        "import ee"
      ]
    },
    {
      "cell_type": "code",
      "execution_count": null,
      "metadata": {
        "id": "Sz-01eMjg72f"
      },
      "outputs": [],
      "source": [
        "ee.Authenticate()"
      ]
    },
    {
      "cell_type": "code",
      "execution_count": null,
      "metadata": {
        "id": "UPsm1_Qxg72j"
      },
      "outputs": [],
      "source": [
        "ee.Initialize()"
      ]
    },
    {
      "cell_type": "markdown",
      "metadata": {
        "id": "mW0ljMgeg72n"
      },
      "source": [
        "#### Create a Collection"
      ]
    },
    {
      "cell_type": "code",
      "execution_count": null,
      "metadata": {
        "id": "S60c2-FOjx0h"
      },
      "outputs": [],
      "source": [
        "geometry = ee.Geometry.Point([107.61303468448624, 12.130969369851766])\n",
        "s2 = ee.ImageCollection(\"COPERNICUS/S2\")\n",
        "rgbVis = {\n",
        "  'min': 0.0,\n",
        "  'max': 3000,\n",
        "  'bands': ['B4', 'B3', 'B2'],\n",
        "}\n",
        "\n",
        "# Write a function for Cloud masking\n",
        "def maskS2clouds(image):\n",
        "  qa = image.select('QA60')\n",
        "  cloudBitMask = 1 << 10\n",
        "  cirrusBitMask = 1 << 11\n",
        "  mask = qa.bitwiseAnd(cloudBitMask).eq(0).And(\n",
        "             qa.bitwiseAnd(cirrusBitMask).eq(0))\n",
        "  return image.updateMask(mask) \\\n",
        "      .select(\"B.*\") \\\n",
        "      .copyProperties(image, [\"system:time_start\"])\n",
        "\n",
        "filtered = s2 \\\n",
        "  .filter(ee.Filter.date('2019-01-01', '2020-01-01')) \\\n",
        "  .filter(ee.Filter.lt('CLOUDY_PIXEL_PERCENTAGE', 30)) \\\n",
        "  .filter(ee.Filter.bounds(geometry)) \\\n",
        "  .map(maskS2clouds)\n",
        "\n",
        "# Write a function that computes NDVI for an image and adds it as a band\n",
        "def addNDVI(image):\n",
        "  ndvi = image.normalizedDifference(['B5', 'B4']).rename('ndvi')\n",
        "  return image.addBands(ndvi)\n",
        "\n",
        "withNdvi = filtered.map(addNDVI)"
      ]
    },
    {
      "cell_type": "markdown",
      "metadata": {
        "id": "s-zNDMS9g72r"
      },
      "source": [
        "#### Export All Images\n",
        "\n",
        "Exports are done via the ``ee.batch`` module. A key difference between javascript and Python version is that the `region` parameter needs to be supplied with actual geometry coordinates."
      ]
    },
    {
      "cell_type": "code",
      "execution_count": null,
      "metadata": {
        "id": "STvfd9ABg72s"
      },
      "outputs": [],
      "source": [
        "image_ids = withNdvi.aggregate_array('system:index').getInfo()\n",
        "print('Total images: ', len(image_ids))"
      ]
    },
    {
      "cell_type": "code",
      "execution_count": null,
      "metadata": {
        "id": "CoXn1_hgoj81"
      },
      "outputs": [],
      "source": [
        "# Export with 100m resolution for this demo\n",
        "for i, image_id in enumerate(image_ids):\n",
        "  image = ee.Image(withNdvi.filter(ee.Filter.eq('system:index', image_id)).first())\n",
        "  task = ee.batch.Export.image.toDrive(**{\n",
        "    'image': image.select('ndvi'),\n",
        "    'description': 'Image Export {}'.format(i+1),\n",
        "    'fileNamePrefix': image.id().getInfo(),\n",
        "    'folder':'earthengine',\n",
        "    'scale': 100,\n",
        "    'region': image.geometry().bounds().getInfo()['coordinates'],\n",
        "    'maxPixels': 1e10\n",
        "  })\n",
        "  task.start()\n",
        "  print('Started Task: ', i+1)"
      ]
    },
    {
      "cell_type": "markdown",
      "metadata": {
        "id": "J8BtAZftg720"
      },
      "source": [
        "#### Manage Running/Waiting Tasks\n",
        "\n",
        "You can manage tasks as well. Get a list of tasks and get state information on them"
      ]
    },
    {
      "cell_type": "code",
      "execution_count": null,
      "metadata": {
        "id": "AhNgXPb1XGBX"
      },
      "outputs": [],
      "source": [
        "tasks = ee.batch.Task.list()\n",
        "for task in tasks:\n",
        "  task_id = task.status()['id']\n",
        "  task_state = task.status()['state']\n",
        "  print(task_id, task_state)"
      ]
    },
    {
      "cell_type": "markdown",
      "metadata": {
        "id": "Y4kf_z5Wg723"
      },
      "source": [
        "You can cancel tasks as well"
      ]
    },
    {
      "cell_type": "code",
      "execution_count": null,
      "metadata": {
        "id": "-u2_GpPog724"
      },
      "outputs": [],
      "source": [
        "tasks = ee.batch.Task.list()\n",
        "for task in tasks:\n",
        "    task_id = task.status()['id']\n",
        "    task_state = task.status()['state']\n",
        "    if task_state == 'RUNNING' or task_state == 'READY':\n",
        "        task.cancel()\n",
        "        print('Task {} canceled'.format(task_id))\n",
        "    else:\n",
        "        print('Task {} state is {}'.format(task_id, task_state))"
      ]
    },
    {
      "cell_type": "markdown",
      "metadata": {
        "id": "_NowB1q5dMMS"
      },
      "source": [
        "### Exercise\n",
        "\n",
        "The code below uses the TerraClimate data and creates an ImageCollection with 12 monthly images of maximum temperature. It also extract the geometry for Australia from the LSIB collection. Add the code to start an export task for each image in the collection for australia.\n",
        "\n",
        "- **Hint1**: TerraClimate images have a scale of 4638.3m\n",
        "- **Hint2**: You need to export the image contained in the clippedImage variable"
      ]
    },
    {
      "cell_type": "code",
      "execution_count": null,
      "metadata": {
        "id": "SPvFVY8pdMMT"
      },
      "outputs": [],
      "source": [
        "import ee\n",
        "\n",
        "lsib = ee.FeatureCollection('USDOS/LSIB_SIMPLE/2017')\n",
        "australia = lsib.filter(ee.Filter.eq('country_na', 'Australia'))\n",
        "geometry = australia.geometry()\n",
        "\n",
        "terraclimate = ee.ImageCollection('IDAHO_EPSCOR/TERRACLIMATE')\n",
        "tmax = terraclimate.select('tmmx')\n",
        "\n",
        "def scale(image):\n",
        "  return image.multiply(0.1) \\\n",
        "    .copyProperties(image,['system:time_start'])\n",
        "\n",
        "tmaxScaled = tmax.map(scale)\n",
        "\n",
        "filtered = tmaxScaled \\\n",
        "  .filter(ee.Filter.date('2020-01-01', '2021-01-01')) \\\n",
        "  .filter(ee.Filter.bounds(geometry))\n",
        "\n",
        "image_ids = filtered.aggregate_array('system:index').getInfo()\n",
        "print('Total images: ', len(image_ids))"
      ]
    },
    {
      "cell_type": "markdown",
      "metadata": {
        "id": "kEWgJNNmdMMU"
      },
      "source": [
        "Replace the comments with your code."
      ]
    },
    {
      "cell_type": "code",
      "execution_count": null,
      "metadata": {
        "id": "GR4-2koBdMMU"
      },
      "outputs": [],
      "source": [
        "for i, image_id in enumerate(image_ids):\n",
        "    exportImage = ee.Image(filtered.filter(ee.Filter.eq('system:index', image_id)).first())\n",
        "    # Clip the image to the region geometry\n",
        "    clippedImage = exportImage.clip(geometry)\n",
        "    \n",
        "    ## Create the export task using ee.batch.Export.image.toDrive()\n",
        "    \n",
        "    ## Start the task"
      ]
    }
  ],
  "metadata": {
    "colab": {
      "collapsed_sections": [],
      "name": "02_managing_tasks.ipynb",
      "provenance": [],
      "toc_visible": true,
      "include_colab_link": true
    },
    "kernelspec": {
      "display_name": "Python 3 (ipykernel)",
      "language": "python",
      "name": "python3"
    },
    "language_info": {
      "codemirror_mode": {
        "name": "ipython",
        "version": 3
      },
      "file_extension": ".py",
      "mimetype": "text/x-python",
      "name": "python",
      "nbconvert_exporter": "python",
      "pygments_lexer": "ipython3",
      "version": "3.8.13"
    }
  },
  "nbformat": 4,
  "nbformat_minor": 0
}