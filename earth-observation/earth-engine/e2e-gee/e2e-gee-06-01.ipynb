{
  "nbformat": 4,
  "nbformat_minor": 0,
  "metadata": {
    "colab": {
      "name": "e2e-gee-06-01.ipynb",
      "provenance": [],
      "authorship_tag": "ABX9TyMq9dAY5kS6UM2+/E/RgiAn",
      "include_colab_link": true
    },
    "kernelspec": {
      "name": "python3",
      "display_name": "Python 3"
    },
    "language_info": {
      "name": "python"
    }
  },
  "cells": [
    {
      "cell_type": "markdown",
      "metadata": {
        "id": "view-in-github",
        "colab_type": "text"
      },
      "source": [
        "<a href=\"https://colab.research.google.com/github/paradisepilot/study/blob/master/earth-observation/earth-engine/e2e-gee/e2e-gee-06-01.ipynb\" target=\"_parent\"><img src=\"https://colab.research.google.com/assets/colab-badge.svg\" alt=\"Open In Colab\"/></a>"
      ]
    },
    {
      "cell_type": "code",
      "execution_count": 1,
      "metadata": {
        "id": "DZ_V7tcFAtWp"
      },
      "outputs": [],
      "source": [
        "import ee"
      ]
    },
    {
      "cell_type": "code",
      "source": [
        "ee.Authenticate()"
      ],
      "metadata": {
        "colab": {
          "base_uri": "https://localhost:8080/"
        },
        "id": "h-StaBluEBL7",
        "outputId": "2b729eb8-9511-47d4-ccbb-c649fdb9abf9"
      },
      "execution_count": 4,
      "outputs": [
        {
          "output_type": "stream",
          "name": "stdout",
          "text": [
            "To authorize access needed by Earth Engine, open the following URL in a web browser and follow the instructions. If the web browser does not start automatically, please manually browse the URL below.\n",
            "\n",
            "    https://code.earthengine.google.com/client-auth?scopes=https%3A//www.googleapis.com/auth/earthengine%20https%3A//www.googleapis.com/auth/devstorage.full_control&request_id=m8NU8AYu0KYazsGuKrzRArINRnqYbrg9dQit7G3vuS4&tc=OHbLBIoKrm7YyBbos_xT3vPTJEigTnk8GJoAM4-uDUo&cc=-N9BkIaPEetlTVgbPEFg_uDxH8Eip0Tc4749xq0xqb8\n",
            "\n",
            "The authorization workflow will generate a code, which you should paste in the box below. \n",
            "Enter verification code: 4/1AdQt8qiLe9LRCB18N0lx1DIvSWj6yR_NYBIqG9KK0hO_rapwYcm04bBBUIw\n",
            "\n",
            "Successfully saved authorization token.\n"
          ]
        }
      ]
    },
    {
      "cell_type": "code",
      "source": [
        "ee.Initialize()\n"
      ],
      "metadata": {
        "id": "40704Ud3GBgL"
      },
      "execution_count": 5,
      "outputs": []
    },
    {
      "cell_type": "code",
      "source": [
        "city = 'San Fransico'\n",
        "state = 'California'\n",
        "print(city, state)\n",
        "\n",
        "population = 881549\n",
        "print(population)"
      ],
      "metadata": {
        "colab": {
          "base_uri": "https://localhost:8080/"
        },
        "id": "ZchvZEDlGFp_",
        "outputId": "fca2bdb5-8e16-4335-eb3e-9c15dd78ab9f"
      },
      "execution_count": 6,
      "outputs": [
        {
          "output_type": "stream",
          "name": "stdout",
          "text": [
            "San Fransico California\n",
            "881549\n"
          ]
        }
      ]
    }
  ]
}