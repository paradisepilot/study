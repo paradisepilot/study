{
  "nbformat": 4,
  "nbformat_minor": 0,
  "metadata": {
    "colab": {
      "name": "e2e-gee-06-01.ipynb",
      "provenance": [],
      "authorship_tag": "ABX9TyMAMhjywB3VBpnUJ+1mfIS3",
      "include_colab_link": true
    },
    "kernelspec": {
      "name": "python3",
      "display_name": "Python 3"
    },
    "language_info": {
      "name": "python"
    }
  },
  "cells": [
    {
      "cell_type": "markdown",
      "metadata": {
        "id": "view-in-github",
        "colab_type": "text"
      },
      "source": [
        "<a href=\"https://colab.research.google.com/github/paradisepilot/study/blob/master/earth-observation/earth-engine/e2e-gee/e2e-gee-06-01.ipynb\" target=\"_parent\"><img src=\"https://colab.research.google.com/assets/colab-badge.svg\" alt=\"Open In Colab\"/></a>"
      ]
    },
    {
      "cell_type": "code",
      "execution_count": 1,
      "metadata": {
        "id": "DZ_V7tcFAtWp"
      },
      "outputs": [],
      "source": [
        "import ee"
      ]
    },
    {
      "cell_type": "code",
      "source": [
        "ee.Authenticate()"
      ],
      "metadata": {
        "colab": {
          "base_uri": "https://localhost:8080/"
        },
        "id": "h-StaBluEBL7",
        "outputId": "2b729eb8-9511-47d4-ccbb-c649fdb9abf9"
      },
      "execution_count": 4,
      "outputs": [
        {
          "output_type": "stream",
          "name": "stdout",
          "text": [
            "To authorize access needed by Earth Engine, open the following URL in a web browser and follow the instructions. If the web browser does not start automatically, please manually browse the URL below.\n",
            "\n",
            "    https://code.earthengine.google.com/client-auth?scopes=https%3A//www.googleapis.com/auth/earthengine%20https%3A//www.googleapis.com/auth/devstorage.full_control&request_id=m8NU8AYu0KYazsGuKrzRArINRnqYbrg9dQit7G3vuS4&tc=OHbLBIoKrm7YyBbos_xT3vPTJEigTnk8GJoAM4-uDUo&cc=-N9BkIaPEetlTVgbPEFg_uDxH8Eip0Tc4749xq0xqb8\n",
            "\n",
            "The authorization workflow will generate a code, which you should paste in the box below. \n",
            "Enter verification code: 4/1AdQt8qiLe9LRCB18N0lx1DIvSWj6yR_NYBIqG9KK0hO_rapwYcm04bBBUIw\n",
            "\n",
            "Successfully saved authorization token.\n"
          ]
        }
      ]
    },
    {
      "cell_type": "code",
      "source": [
        "ee.Initialize()\n"
      ],
      "metadata": {
        "id": "40704Ud3GBgL"
      },
      "execution_count": 5,
      "outputs": []
    },
    {
      "cell_type": "code",
      "source": [
        "city = 'San Fransico'\n",
        "state = 'California'\n",
        "print(city, state)\n",
        "\n",
        "population = 881549\n",
        "print(population)"
      ],
      "metadata": {
        "colab": {
          "base_uri": "https://localhost:8080/"
        },
        "id": "ZchvZEDlGFp_",
        "outputId": "fca2bdb5-8e16-4335-eb3e-9c15dd78ab9f"
      },
      "execution_count": 6,
      "outputs": [
        {
          "output_type": "stream",
          "name": "stdout",
          "text": [
            "San Fransico California\n",
            "881549\n"
          ]
        }
      ]
    },
    {
      "cell_type": "code",
      "source": [
        "lon_centre = -75.695000\n",
        "lat_centre =  45.424722 \n",
        "\n",
        "lon_width  = 0.50\n",
        "lat_width  = 0.30\n",
        "\n",
        "ottawaGeometry = ee.Geometry.Polygon([[\n",
        "  [lon_centre - lon_width/2, lat_centre - lat_width/2],\n",
        "  [lon_centre - lon_width/2, lat_centre + lat_width/2],\n",
        "  [lon_centre + lon_width/2, lat_centre + lat_width/2],\n",
        "  [lon_centre + lon_width/2, lat_centre - lat_width/2],\n",
        "  [lon_centre - lon_width/2, lat_centre - lat_width/2]\n",
        "]])\n",
        "\n",
        "s2 = ee.ImageCollection('COPERNICUS/S2')"
      ],
      "metadata": {
        "id": "OePMoGEDHG-A"
      },
      "execution_count": 7,
      "outputs": []
    },
    {
      "cell_type": "code",
      "source": [
        "filtered = s2 \\\n",
        "    .filter(ee.Filter.lt('CLOUDY_PIXEL_PERCENTAGE', 30)) \\\n",
        "    .filter(ee.Filter.date('2022-02-01','2022-03-01')) \\\n",
        "    .filter(ee.Filter.bounds(ottawaGeometry))"
      ],
      "metadata": {
        "id": "yzSd7OJUHmFo"
      },
      "execution_count": 8,
      "outputs": []
    },
    {
      "cell_type": "code",
      "source": [
        "def maskS2clouds(image):\n",
        "  qa = image.select('QA60')\n",
        "  cloudBitMask = 1 << 10\n",
        "  cirrusBitMask = 1 << 11\n",
        "  mask = qa.bitwiseAnd(cloudBitMask).eq(0).And(\n",
        "             qa.bitwiseAnd(cirrusBitMask).eq(0))\n",
        "  return image.updateMask(mask) \\\n",
        "      .select(\"B.*\") \\\n",
        "      .copyProperties(image,[\"system:time_start\"])\n",
        "\n",
        "def addNDVI(image):\n",
        "  ndvi = image.normalizedDifference(['B8','B4']).rename('ndvi')\n",
        "  return image.addBands(ndvi)\n",
        "\n",
        "withNdvi = filtered \\\n",
        "    .map(maskS2clouds) \\\n",
        "    .map(addNDVI)\n"
      ],
      "metadata": {
        "id": "oaWAO_qxHxnD"
      },
      "execution_count": 9,
      "outputs": []
    },
    {
      "cell_type": "code",
      "source": [
        "composite = withNdvi.median()\n",
        "ndvi = composite.select('ndvi')\n",
        "\n",
        "stats = ndvi.reduceRegion(**{\n",
        "  'reducer': ee.Reducer.mean(),\n",
        "  'geometry': ottawaGeometry,\n",
        "  'scale': 10,\n",
        "  'maxPixels': 1e10\n",
        "  })\n",
        "\n",
        "print(stats.get('ndvi').getInfo())\n"
      ],
      "metadata": {
        "colab": {
          "base_uri": "https://localhost:8080/"
        },
        "id": "ekjsIix4IbSq",
        "outputId": "f3dae2a9-d0fc-456f-e291-1ce05624d392"
      },
      "execution_count": 10,
      "outputs": [
        {
          "output_type": "stream",
          "name": "stdout",
          "text": [
            "0.028467623284582716\n"
          ]
        }
      ]
    },
    {
      "cell_type": "code",
      "source": [
        "# javascript:\n",
        "# var myList = ee.List.sequence(1, 10);\n",
        "# var newList = myList.map(function(number) {\n",
        "#     return ee.Number(number).pow(2);\n",
        "#     });\n",
        "# print(newList);\n",
        "\n",
        "myList = ee.List.sequence(1, 10)\n",
        "newList = myList.map(lambda number: ee.Number(number).pow(2))\n",
        "print(newList.getInfo())\n"
      ],
      "metadata": {
        "colab": {
          "base_uri": "https://localhost:8080/"
        },
        "id": "zc47Q4ItJaDY",
        "outputId": "beb87407-41fb-43c3-9a8e-a042a78e6b06"
      },
      "execution_count": 11,
      "outputs": [
        {
          "output_type": "stream",
          "name": "stdout",
          "text": [
            "[1, 4, 9, 16, 25, 36, 49, 64, 81, 100]\n"
          ]
        }
      ]
    }
  ]
}